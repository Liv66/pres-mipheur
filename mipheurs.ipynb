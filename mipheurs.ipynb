{
 "cells": [
  {
   "cell_type": "markdown",
   "id": "749fb51c-8b3e-4770-a9f7-2beb93b4e807",
   "metadata": {
    "slideshow": {
     "slide_type": "slide"
    },
    "tags": []
   },
   "source": [
    "# Faster MIPs Using Custom Heuristics"
   ]
  },
  {
   "cell_type": "markdown",
   "id": "4450ce59",
   "metadata": {
    "slideshow": {
     "slide_type": "slide"
    }
   },
   "source": [
    "## Most important question"
   ]
  },
  {
   "cell_type": "markdown",
   "id": "66469ab2",
   "metadata": {
    "slideshow": {
     "slide_type": "fragment"
    }
   },
   "source": [
    "- Q: How do you get a copy of the presentation and code?\n",
    "- A: Stay tuned until the end!"
   ]
  },
  {
   "cell_type": "markdown",
   "id": "40c362c7-13ad-4dc5-9ae2-a1d2c3c977d5",
   "metadata": {
    "slideshow": {
     "slide_type": "slide"
    },
    "tags": []
   },
   "source": [
    "## About Heuristics in MIP\n",
    "- Heuristics help make MIP faster than branch-and-cut alone\n",
    "  - Find integer feasible solutions\n",
    "  - Improve incumbent solutions\n",
    "- Heuristics run alongside branch-and-cut\n",
    "  - At beginning of a solve\n",
    "  - After the LP relaxation\n",
    "  - Within the branch-and-cut tree "
   ]
  },
  {
   "cell_type": "markdown",
   "id": "5aea285a-53a3-43b6-a4c2-a7b6622c8db7",
   "metadata": {
    "slideshow": {
     "slide_type": "slide"
    },
    "tags": []
   },
   "source": [
    "## Types of solution heuristics\n",
    "  - Construction: Find a feasible solution\n",
    "  - Improvement: Modify a feasible solution to get a better solution"
   ]
  },
  {
   "cell_type": "markdown",
   "id": "76dd9ca3-c2a2-4e64-8675-709c5a4c6bf6",
   "metadata": {
    "slideshow": {
     "slide_type": "slide"
    },
    "tags": []
   },
   "source": [
    "## Why custom heuristics?\n",
    "- Gurobi provides _multiple_ general-purpose heuristics that are effective for many MIP models, including:\n",
    "  - Construction\n",
    "    - Zero: Try x=0 as a candidate solution (!)\n",
    "    - Zero objective: Set the objective to zero and solve\n",
    "  - Improvement\n",
    "    - RINS: Fix some variables and solve the reduced MIP\n",
    "- However, you may be able to do better for your model by exploiting its specific structure - that's the goal of this presentation"
   ]
  },
  {
   "cell_type": "markdown",
   "id": "8da9197f-f3cd-4eb2-b3d5-a066baa3366a",
   "metadata": {
    "slideshow": {
     "slide_type": "slide"
    },
    "tags": []
   },
   "source": [
    "## Disclaimers\n",
    "- We use the Traveling Salesman Problem (TSP) **for illustration purposes**\n",
    "  - Why TSP? Because it is a rich model that is easy to understand\n",
    "- This is *not* designed to show the fastest method for the TSP\n",
    "  - Special-purpose TSP codes outperform this model\n",
    "  - If you want to solve a TSP, consider a state-of-the-art system like [Concorde TSP Solver](http://www.math.uwaterloo.ca/tsp/concorde.html)"
   ]
  },
  {
   "cell_type": "markdown",
   "id": "71544514-7e77-4f7a-9cb1-fc733638b3f9",
   "metadata": {
    "slideshow": {
     "slide_type": "slide"
    },
    "tags": []
   },
   "source": [
    "## Review of the Symmetric Traveling Salesman Problem\n",
    "- Given:\n",
    "  - A symmetric graph with Nodes and Edges\n",
    "  - A distance value for each edge\n",
    "- Find a tour that\n",
    "  - Visits each city exactly once\n",
    "  - Returns to the starting point\n",
    "  - Minimizes the total distance"
   ]
  },
  {
   "cell_type": "markdown",
   "id": "aaa26f80-60b7-4ed3-86ad-4d3d9eb56e32",
   "metadata": {
    "slideshow": {
     "slide_type": "slide"
    },
    "tags": []
   },
   "source": [
    "Example:\n",
    "  \n",
    "<img src=\"img/tour.png\" width=\"80%\">"
   ]
  },
  {
   "cell_type": "markdown",
   "id": "631b9607-d950-4b8f-9c19-d76f863d9956",
   "metadata": {
    "incorrectly_encoded_metadata": "rise={\"height\": \"80%\", \"width\": \"80%\"} slideshow={\"slide_type\": \"slide\"} tags=[] jp-MarkdownHeadingCollapsed=true"
   },
   "source": [
    "## Standard MIP model for symmetric TSP\n",
    "\n",
    "- Let $d_{ij}$ be the distance between nodes $i$ and $j$\n",
    "- Let binary variable $x_{ij} = 1$ if edge $i,j$ in the tour\n",
    "\n",
    "$$\n",
    "\\begin{align}\n",
    "\\min \\sum_{i,j} d_{ij} x_{ij} \\\\\n",
    "\\sum_{j} x_{ij} & = 2 & \\forall i \\quad (1) \\\\\n",
    "\\sum_{i,j \\in S : i<j} x_{ij} & \\le |S|-1 & \\forall S \\subset N, 2 \\le |S| \\le |N|-2 \\quad (2) \\\\\n",
    "x_{ij} & = x_{ji} & \\forall i,j \\quad (3) \n",
    "\\end{align}\n",
    "$$\n",
    "\n",
    "1. Degree constraint: ensures that two edges connect to each node.\n",
    "2. Subtour elimination constraint: there are an exponential number of these, but most are inactive. Typically, add them as needed via a lazy constraint callback that checks whether a solution contains subtours and adds the constraint.\n",
    "3. Symmetry constraints: handled by presolve or model formulation."
   ]
  },
  {
   "cell_type": "markdown",
   "id": "86077452-6f6b-413f-93c7-a27a832c0f65",
   "metadata": {
    "slideshow": {
     "slide_type": "slide"
    },
    "tags": []
   },
   "source": [
    "## Status of MIP nodes\n",
    "- LP infeasible\n",
    "- LP feasible\n",
    "  - Integer feasible\n",
    "      - **Has subtours – needs lazy constraints**\n",
    "      - No subtours – new tour found\n",
    "  - **Fractional values**\n",
    "\n",
    "**Boldface** values can be exploited in heuristics"
   ]
  },
  {
   "cell_type": "markdown",
   "id": "161c2a27-6c6a-4368-8d19-2ad8d84de88d",
   "metadata": {
    "slideshow": {
     "slide_type": "slide"
    },
    "tags": []
   },
   "source": [
    "## MIP Heuristic: Greedy construction\n",
    "\n",
    "Given a path in the graph, add the closest node. Repeat until you visit\n",
    "all nodes, then return to the start to get a tour.\n",
    "\n",
    "<img src=\"img/greedy.png\" width=\"80%\">"
   ]
  },
  {
   "metadata": {},
   "cell_type": "markdown",
   "source": [
    "## MIP Heuristic: Subtour patching\n",
    "\n",
    "Join subtours together to get a larger subtour. Repeat until there is\n",
    "just one tour.\n",
    "\n",
    "<img src=\"img/subtours.png\" width=\"80%\">"
   ],
   "id": "eb6b0c7f-0362-421a-b7c6-b2201ae8d717"
  },
  {
   "metadata": {},
   "cell_type": "markdown",
   "source": [
    "## MIP Heuristic: Fix and dive\n",
    "\n",
    "Take variables $x_{ij}$ in the LP relaxation where $x_{ij} = 1$; fix\n",
    "those values and solve the reduced MIP.\n",
    "\n",
    "<img src=\"img/fixed.png\" width=\"80%\">"
   ],
   "id": "54827259-0322-4c6b-b1c6-ad5859e87c10"
  },
  {
   "metadata": {},
   "cell_type": "markdown",
   "source": [
    "## MIP Heuristic: Swap\n",
    "\n",
    "There are many different variations of swap heuristics. Here is\n",
    "a simple one where we swap 2 edges in a tour.\n",
    "\n",
    "<img src=\"img/swap.png\" width=\"80%\">"
   ],
   "id": "586f3a0c-a131-43e2-9a7a-5d05d444cd7a"
  },
  {
   "metadata": {},
   "cell_type": "markdown",
   "source": [
    "# Model code\n",
    "\n",
    "- This code may seem pedantic since it's designed as a research testbed to try different heuristics\n",
    "- For a production application, you could simplify the code by including the heuristics directly and avoid some advanced (complex) Python programming.\n",
    "\n",
    "**Note** This code is provided for illustration purposes and comes with no warranty or technical support."
   ],
   "id": "05949ee0-a3be-4946-981f-82150b5f89af"
  },
  {
   "metadata": {},
   "cell_type": "markdown",
   "source": "## Code to create the base model",
   "id": "af87eee4-f580-437d-bd9d-3287e59d243a"
  },
  {
   "metadata": {
    "ExecuteTime": {
     "end_time": "2024-07-13T08:36:23.395654Z",
     "start_time": "2024-07-13T08:36:23.365007Z"
    }
   },
   "cell_type": "code",
   "source": [
    "cnt = 0\n",
    "def tspcb(heurcb=None):\n",
    "    \n",
    "    def basecb(model, where):\n",
    "        global cnt\n",
    "        cnt += 1\n",
    "\n",
    "        # Check MIP solution\n",
    "        if where == GRB.Callback.MIPSOL:\n",
    "            print(f\"MIPSOL {cnt}\")\n",
    "            vals = model.cbGetSolution(model._vars)\n",
    "            tours = subtours(vals)\n",
    "            if len(tours) > 1:\n",
    "                # Save the subtours for future use\n",
    "                model._subtours.append(tours)\n",
    "            else:\n",
    "                # Save the tour for future use\n",
    "                model._tours.append(tours[0])\n",
    "\n",
    "                # Record time when first tour is found\n",
    "                try:\n",
    "                    model._firstsoltime\n",
    "                except AttributeError:\n",
    "                    model._firstsoltime = model.cbGet(GRB.Callback.RUNTIME)\n",
    "\n",
    "        # Call inner heuristic callback function, if specified\n",
    "        try:\n",
    "            heurcb(model, where)\n",
    "        except TypeError: # no heuristic callback specified\n",
    "            pass\n",
    "\n",
    "        # Add subtour constraints if there are any subtours\n",
    "        if where == GRB.Callback.MIPSOL:\n",
    "            print(f\"MIPSOL2 {cnt}\")\n",
    "            for tours in model._subtours:\n",
    "                # add a subtour elimination constraint for all but largest subtour\n",
    "                for tour in tours[:-1]:\n",
    "                    model.cbLazy(gp.quicksum(model._vars[i, j]\n",
    "                                             for i, j in combinations(tour, 2) if (i,j) in model._vars)\n",
    "                                 <= len(tour)-1)\n",
    "            # Reset the subtours\n",
    "            model._subtours = []\n",
    "\n",
    "        # Inject a heuristic solution, if there is a saved one\n",
    "        if where == GRB.Callback.MIPNODE:\n",
    "            print(f\"MIPNODE1 {cnt}\")\n",
    "            try:\n",
    "                print(f\"MIPNODE2 {cnt}\")\n",
    "                # There may be multiple tours - find the best one\n",
    "                tour,cost = min(((tour,tourcost(model._dist, tour))\n",
    "                              for tour in model._tours),\n",
    "                          key=lambda x: x[-1])\n",
    "                # Only apply if the tour is an improvement\n",
    "                if cost < model.cbGet(GRB.Callback.MIPNODE_OBJBST):\n",
    "                    # Set all variables to 0.0 - optional but helpful to suppress some warnings\n",
    "                    model.cbSetSolution(list(model._vars.values()), [0.0]*len(model._vars))\n",
    "                    # Now set variables in tour to 1.0\n",
    "                    model.cbSetSolution([model._vars[tour[k-1],tour[k]] for k in range(len(tour))], [1.0]*len(tour))\n",
    "                    # Use the solution - optional but a slight performance improvement\n",
    "                    model.cbUseSolution()\n",
    "                # Reset the tours\n",
    "                model._tours = []\n",
    "            except ValueError: # tours list was already empty\n",
    "                pass\n",
    "    \n",
    "    return basecb # the generated function"
   ],
   "id": "6e3e9736-af71-4039-8c65-3bd0bcf47cb5",
   "outputs": [],
   "execution_count": 32
  },
  {
   "metadata": {
    "ExecuteTime": {
     "end_time": "2024-07-13T08:27:58.965590Z",
     "start_time": "2024-07-13T08:27:58.956078Z"
    }
   },
   "cell_type": "code",
   "source": [
    "import math\n",
    "from itertools import combinations\n",
    "import gurobipy as gp\n",
    "from gurobipy import GRB\n",
    "import random\n",
    "\n",
    "def tspmip(n, dist, timelimit=60):\n",
    "    m = gp.Model()\n",
    "\n",
    "    # Objects to use inside callbacks\n",
    "    m._n = n\n",
    "    m._subtours = []\n",
    "    m._tours = []\n",
    "    m._dist = dict(dist)\n",
    "\n",
    "    # Create variables\n",
    "    vars = m.addVars(dist.keys(), obj=dist, vtype=GRB.BINARY, name='x')\n",
    "\n",
    "    # Create opposite direction (i,j) -> (j,i)\n",
    "    # This isn't a new variable - it's a pointer to the same variable\n",
    "    for i, j in list(vars):\n",
    "        vars[j, i] = vars[i, j]\n",
    "        m._dist[j, i] = dist[i, j]\n",
    "\n",
    "    # Add degree-2 constraint\n",
    "    m.addConstrs(vars.sum(i, '*') == 2 for i in range(n))\n",
    "\n",
    "    # Set parameter for lazy constraints\n",
    "    m.Params.lazyConstraints = 1\n",
    "    \n",
    "    # Set the relative MIP gap to 0 and the time limit\n",
    "    m.Params.MIPGap = 0\n",
    "    m.Params.TimeLimit = timelimit\n",
    "    \n",
    "    # Set the absolute MIP gap to the smallest nonzero difference in distances\n",
    "    distvals = sorted(dist.values())\n",
    "    m.Params.MIPGapAbs = min(v[1]-v[0] for v in list(zip(distvals[:-1],distvals[1:])) if v[1] != v[0])\n",
    "    \n",
    "    # vars object to use inside callbacks\n",
    "    m._vars = vars\n",
    "    \n",
    "    return m"
   ],
   "id": "0820c76f-20d8-4546-ad0d-e8010d534c80",
   "outputs": [],
   "execution_count": 14
  },
  {
   "metadata": {},
   "cell_type": "markdown",
   "source": [
    "## Subtours function\n",
    "Finds all subtours from an integer solution, sorted from smallest subtour to largest."
   ],
   "id": "c80f2ca8-af5a-4b5e-b22f-6e3d3c281f45"
  },
  {
   "metadata": {
    "ExecuteTime": {
     "end_time": "2024-07-13T08:28:03.981788Z",
     "start_time": "2024-07-13T08:28:03.966117Z"
    }
   },
   "cell_type": "code",
   "source": [
    "def subtours(vals):\n",
    "    # make a list of edges selected in the solution\n",
    "    edges = gp.tuplelist((i, j) for i, j in list(vals)\n",
    "                         if vals[i, j] > 0.5)\n",
    "    cycles = []\n",
    "    while edges:\n",
    "        # Trace edges until we find a loop\n",
    "        i,j = edges[0]\n",
    "        thiscycle = [i]\n",
    "        while j != thiscycle[0]:\n",
    "            thiscycle.append(j)\n",
    "            i,j = next((i,j) for i,j in edges.select(j, '*')\n",
    "                       if j != thiscycle[-2])\n",
    "        cycles.append(thiscycle)\n",
    "        for j in thiscycle:\n",
    "            edges.remove((i,j))\n",
    "            edges.remove((j,i))\n",
    "            i = j\n",
    "    return sorted(cycles, key=lambda x: len(x))"
   ],
   "id": "02f78b5e-2798-4de1-b364-630827b6f57a",
   "outputs": [],
   "execution_count": 15
  },
  {
   "metadata": {},
   "cell_type": "markdown",
   "source": [
    "## Tour cost function\n",
    "A helper function to compute the cost of a tour"
   ],
   "id": "410af438-a07c-4f1e-a890-6a7e3a525c9a"
  },
  {
   "metadata": {
    "ExecuteTime": {
     "end_time": "2024-07-13T08:23:19.973081Z",
     "start_time": "2024-07-13T08:23:19.961070Z"
    }
   },
   "cell_type": "code",
   "source": [
    "def tourcost(dist, tour):\n",
    "    return sum(dist[tour[k-1],tour[k]] for k in range(len(tour)))"
   ],
   "id": "fe72c743-8352-4cba-a0cc-c5374f1f39a6",
   "outputs": [],
   "execution_count": 4
  },
  {
   "metadata": {},
   "cell_type": "markdown",
   "source": [
    "## Callback function\n",
    "There are several parts to the main callback function:\n",
    "1. Checks on integer solutions: if an integer solution is found, it either stores the tour or subtours\n",
    "2. A call to a heuristic function, which we specify later\n",
    "3. If subtours were found, add subtour elimination constraints\n",
    "4. If a tour was generated (like from a heuristic), set that as a candidate solution\n",
    "\n",
    "This function is written as a [closure](https://en.wikipedia.org/wiki/Closure_(computer_programming)): a function that _generates_ the callback. The reason for this is that we want to specify the heuristic function to call inside the callback! The main logic is in the inner function `basecb`; the optional heuristic function is `heurcb`."
   ],
   "id": "a4affc95-8388-47b3-bfb9-c1417aa65192"
  },
  {
   "cell_type": "markdown",
   "id": "e0bad862-2570-4a75-883b-23de03920fa0",
   "metadata": {
    "slideshow": {
     "slide_type": "slide"
    }
   },
   "source": [
    "## Check solution\n",
    "Function to print and plot solution values."
   ]
  },
  {
   "cell_type": "code",
   "id": "42ea076d-f92b-4cb3-9585-7293e7bd3fef",
   "metadata": {
    "slideshow": {
     "slide_type": "subslide"
    },
    "ExecuteTime": {
     "end_time": "2024-07-13T09:03:45.357203Z",
     "start_time": "2024-07-13T09:03:45.325933Z"
    }
   },
   "source": [
    "from bokeh.plotting import figure, show\n",
    "from bokeh.io import output_notebook\n",
    "import time\n",
    "\n",
    "output_notebook()\n",
    "\n",
    "def checksol(m, t, plot=True):\n",
    "    print('')\n",
    "    if m.SolCount > 0:\n",
    "        vals = m.getAttr('x', m._vars)\n",
    "        tours = subtours(vals)\n",
    "        \n",
    "        if len(tours) == 1:\n",
    "            if m.Status == GRB.OPTIMAL:\n",
    "                status = \"Optimal TSP tour\"\n",
    "            else:\n",
    "                status = \"Suboptimal TSP tour\"\n",
    "            output = tours[0]\n",
    "        else:\n",
    "            status = \"%i TSP subtours\" % len(tours)\n",
    "            output = tours\n",
    "\n",
    "        print('%s: %s' % (status, str(output)))\n",
    "        print('------------------------------------------')\n",
    "        print('------------------------------------------')\n",
    "        print(f'Cost: {m.objVal} runtime : {time.time() - t}')\n",
    "        \n",
    "        if plot:\n",
    "            plotsol(tours, \"%s on %i cities, length=%f\" % (status, n, m.objVal))\n",
    "    else:\n",
    "        print('No solution!')\n",
    "    print('')\n",
    "\n",
    "def plotsol(tours, title=\"\", path=False):\n",
    "    fig = figure(title=title, x_range=[0,100], y_range=[0,100])\n",
    "    x, y = zip(*points)\n",
    "    fig.circle(x, y, size=8)\n",
    "    for tour in tours:\n",
    "        ptseq = [points[k] for k in tour]\n",
    "        if not path:\n",
    "            ptseq.append(ptseq[0])\n",
    "        x, y = zip(*ptseq)\n",
    "        fig.line(x, y)\n",
    "\n",
    "    show(fig)"
   ],
   "outputs": [
    {
     "data": {
      "text/html": [
       "    <style>\n",
       "        .bk-notebook-logo {\n",
       "            display: block;\n",
       "            width: 20px;\n",
       "            height: 20px;\n",
       "            background-image: url(data:image/png;base64,iVBORw0KGgoAAAANSUhEUgAAABQAAAAUCAYAAACNiR0NAAAABHNCSVQICAgIfAhkiAAAAAlwSFlzAAALEgAACxIB0t1+/AAAABx0RVh0U29mdHdhcmUAQWRvYmUgRmlyZXdvcmtzIENTNui8sowAAAOkSURBVDiNjZRtaJVlGMd/1/08zzln5zjP1LWcU9N0NkN8m2CYjpgQYQXqSs0I84OLIC0hkEKoPtiH3gmKoiJDU7QpLgoLjLIQCpEsNJ1vqUOdO7ppbuec5+V+rj4ctwzd8IIbbi6u+8f1539dt3A78eXC7QizUF7gyV1fD1Yqg4JWz84yffhm0qkFqBogB9rM8tZdtwVsPUhWhGcFJngGeWrPzHm5oaMmkfEg1usvLFyc8jLRqDOMru7AyC8saQr7GG7f5fvDeH7Ej8CM66nIF+8yngt6HWaKh7k49Soy9nXurCi1o3qUbS3zWfrYeQDTB/Qj6kX6Ybhw4B+bOYoLKCC9H3Nu/leUTZ1JdRWkkn2ldcCamzrcf47KKXdAJllSlxAOkRgyHsGC/zRday5Qld9DyoM4/q/rUoy/CXh3jzOu3bHUVZeU+DEn8FInkPBFlu3+nW3Nw0mk6vCDiWg8CeJaxEwuHS3+z5RgY+YBR6V1Z1nxSOfoaPa4LASWxxdNp+VWTk7+4vzaou8v8PN+xo+KY2xsw6une2frhw05CTYOmQvsEhjhWjn0bmXPjpE1+kplmmkP3suftwTubK9Vq22qKmrBhpY4jvd5afdRA3wGjFAgcnTK2s4hY0/GPNIb0nErGMCRxWOOX64Z8RAC4oCXdklmEvcL8o0BfkNK4lUg9HTl+oPlQxdNo3Mg4Nv175e/1LDGzZen30MEjRUtmXSfiTVu1kK8W4txyV6BMKlbgk3lMwYCiusNy9fVfvvwMxv8Ynl6vxoByANLTWplvuj/nF9m2+PDtt1eiHPBr1oIfhCChQMBw6Aw0UulqTKZdfVvfG7VcfIqLG9bcldL/+pdWTLxLUy8Qq38heUIjh4XlzZxzQm19lLFlr8vdQ97rjZVOLf8nclzckbcD4wxXMidpX30sFd37Fv/GtwwhzhxGVAprjbg0gCAEeIgwCZyTV2Z1REEW8O4py0wsjeloKoMr6iCY6dP92H6Vw/oTyICIthibxjm/DfN9lVz8IqtqKYLUXfoKVMVQVVJOElGjrnnUt9T9wbgp8AyYKaGlqingHZU/uG2NTZSVqwHQTWkx9hxjkpWDaCg6Ckj5qebgBVbT3V3NNXMSiWSDdGV3hrtzla7J+duwPOToIg42ChPQOQjspnSlp1V+Gjdged7+8UN5CRAV7a5EdFNwCjEaBR27b3W890TE7g24NAP/mMDXRWrGoFPQI9ls/MWO2dWFAar/xcOIImbbpA3zgAAAABJRU5ErkJggg==);\n",
       "        }\n",
       "    </style>\n",
       "    <div>\n",
       "        <a href=\"https://bokeh.org\" target=\"_blank\" class=\"bk-notebook-logo\"></a>\n",
       "        <span id=\"d4c42305-8b2b-48f8-bdfc-50f39a6afa2b\">Loading BokehJS ...</span>\n",
       "    </div>\n"
      ]
     },
     "metadata": {},
     "output_type": "display_data"
    },
    {
     "data": {
      "application/javascript": "'use strict';\n(function(root) {\n  function now() {\n    return new Date();\n  }\n\n  const force = true;\n\n  if (typeof root._bokeh_onload_callbacks === \"undefined\" || force === true) {\n    root._bokeh_onload_callbacks = [];\n    root._bokeh_is_loading = undefined;\n  }\n\nconst JS_MIME_TYPE = 'application/javascript';\n  const HTML_MIME_TYPE = 'text/html';\n  const EXEC_MIME_TYPE = 'application/vnd.bokehjs_exec.v0+json';\n  const CLASS_NAME = 'output_bokeh rendered_html';\n\n  /**\n   * Render data to the DOM node\n   */\n  function render(props, node) {\n    const script = document.createElement(\"script\");\n    node.appendChild(script);\n  }\n\n  /**\n   * Handle when an output is cleared or removed\n   */\n  function handleClearOutput(event, handle) {\n    function drop(id) {\n      const view = Bokeh.index.get_by_id(id)\n      if (view != null) {\n        view.model.document.clear()\n        Bokeh.index.delete(view)\n      }\n    }\n\n    const cell = handle.cell;\n\n    const id = cell.output_area._bokeh_element_id;\n    const server_id = cell.output_area._bokeh_server_id;\n\n    // Clean up Bokeh references\n    if (id != null) {\n      drop(id)\n    }\n\n    if (server_id !== undefined) {\n      // Clean up Bokeh references\n      const cmd_clean = \"from bokeh.io.state import curstate; print(curstate().uuid_to_server['\" + server_id + \"'].get_sessions()[0].document.roots[0]._id)\";\n      cell.notebook.kernel.execute(cmd_clean, {\n        iopub: {\n          output: function(msg) {\n            const id = msg.content.text.trim()\n            drop(id)\n          }\n        }\n      });\n      // Destroy server and session\n      const cmd_destroy = \"import bokeh.io.notebook as ion; ion.destroy_server('\" + server_id + \"')\";\n      cell.notebook.kernel.execute(cmd_destroy);\n    }\n  }\n\n  /**\n   * Handle when a new output is added\n   */\n  function handleAddOutput(event, handle) {\n    const output_area = handle.output_area;\n    const output = handle.output;\n\n    // limit handleAddOutput to display_data with EXEC_MIME_TYPE content only\n    if ((output.output_type != \"display_data\") || (!Object.prototype.hasOwnProperty.call(output.data, EXEC_MIME_TYPE))) {\n      return\n    }\n\n    const toinsert = output_area.element.find(\".\" + CLASS_NAME.split(' ')[0]);\n\n    if (output.metadata[EXEC_MIME_TYPE][\"id\"] !== undefined) {\n      toinsert[toinsert.length - 1].firstChild.textContent = output.data[JS_MIME_TYPE];\n      // store reference to embed id on output_area\n      output_area._bokeh_element_id = output.metadata[EXEC_MIME_TYPE][\"id\"];\n    }\n    if (output.metadata[EXEC_MIME_TYPE][\"server_id\"] !== undefined) {\n      const bk_div = document.createElement(\"div\");\n      bk_div.innerHTML = output.data[HTML_MIME_TYPE];\n      const script_attrs = bk_div.children[0].attributes;\n      for (let i = 0; i < script_attrs.length; i++) {\n        toinsert[toinsert.length - 1].firstChild.setAttribute(script_attrs[i].name, script_attrs[i].value);\n        toinsert[toinsert.length - 1].firstChild.textContent = bk_div.children[0].textContent\n      }\n      // store reference to server id on output_area\n      output_area._bokeh_server_id = output.metadata[EXEC_MIME_TYPE][\"server_id\"];\n    }\n  }\n\n  function register_renderer(events, OutputArea) {\n\n    function append_mime(data, metadata, element) {\n      // create a DOM node to render to\n      const toinsert = this.create_output_subarea(\n        metadata,\n        CLASS_NAME,\n        EXEC_MIME_TYPE\n      );\n      this.keyboard_manager.register_events(toinsert);\n      // Render to node\n      const props = {data: data, metadata: metadata[EXEC_MIME_TYPE]};\n      render(props, toinsert[toinsert.length - 1]);\n      element.append(toinsert);\n      return toinsert\n    }\n\n    /* Handle when an output is cleared or removed */\n    events.on('clear_output.CodeCell', handleClearOutput);\n    events.on('delete.Cell', handleClearOutput);\n\n    /* Handle when a new output is added */\n    events.on('output_added.OutputArea', handleAddOutput);\n\n    /**\n     * Register the mime type and append_mime function with output_area\n     */\n    OutputArea.prototype.register_mime_type(EXEC_MIME_TYPE, append_mime, {\n      /* Is output safe? */\n      safe: true,\n      /* Index of renderer in `output_area.display_order` */\n      index: 0\n    });\n  }\n\n  // register the mime type if in Jupyter Notebook environment and previously unregistered\n  if (root.Jupyter !== undefined) {\n    const events = require('base/js/events');\n    const OutputArea = require('notebook/js/outputarea').OutputArea;\n\n    if (OutputArea.prototype.mime_types().indexOf(EXEC_MIME_TYPE) == -1) {\n      register_renderer(events, OutputArea);\n    }\n  }\n  if (typeof (root._bokeh_timeout) === \"undefined\" || force === true) {\n    root._bokeh_timeout = Date.now() + 5000;\n    root._bokeh_failed_load = false;\n  }\n\n  const NB_LOAD_WARNING = {'data': {'text/html':\n     \"<div style='background-color: #fdd'>\\n\"+\n     \"<p>\\n\"+\n     \"BokehJS does not appear to have successfully loaded. If loading BokehJS from CDN, this \\n\"+\n     \"may be due to a slow or bad network connection. Possible fixes:\\n\"+\n     \"</p>\\n\"+\n     \"<ul>\\n\"+\n     \"<li>re-rerun `output_notebook()` to attempt to load from CDN again, or</li>\\n\"+\n     \"<li>use INLINE resources instead, as so:</li>\\n\"+\n     \"</ul>\\n\"+\n     \"<code>\\n\"+\n     \"from bokeh.resources import INLINE\\n\"+\n     \"output_notebook(resources=INLINE)\\n\"+\n     \"</code>\\n\"+\n     \"</div>\"}};\n\n  function display_loaded(error = null) {\n    const el = document.getElementById(\"d4c42305-8b2b-48f8-bdfc-50f39a6afa2b\");\n    if (el != null) {\n      const html = (() => {\n        if (typeof root.Bokeh === \"undefined\") {\n          if (error == null) {\n            return \"BokehJS is loading ...\";\n          } else {\n            return \"BokehJS failed to load.\";\n          }\n        } else {\n          const prefix = `BokehJS ${root.Bokeh.version}`;\n          if (error == null) {\n            return `${prefix} successfully loaded.`;\n          } else {\n            return `${prefix} <b>encountered errors</b> while loading and may not function as expected.`;\n          }\n        }\n      })();\n      el.innerHTML = html;\n\n      if (error != null) {\n        const wrapper = document.createElement(\"div\");\n        wrapper.style.overflow = \"auto\";\n        wrapper.style.height = \"5em\";\n        wrapper.style.resize = \"vertical\";\n        const content = document.createElement(\"div\");\n        content.style.fontFamily = \"monospace\";\n        content.style.whiteSpace = \"pre-wrap\";\n        content.style.backgroundColor = \"rgb(255, 221, 221)\";\n        content.textContent = error.stack ?? error.toString();\n        wrapper.append(content);\n        el.append(wrapper);\n      }\n    } else if (Date.now() < root._bokeh_timeout) {\n      setTimeout(() => display_loaded(error), 100);\n    }\n  }\n\n  function run_callbacks() {\n    try {\n      root._bokeh_onload_callbacks.forEach(function(callback) {\n        if (callback != null)\n          callback();\n      });\n    } finally {\n      delete root._bokeh_onload_callbacks\n    }\n    console.debug(\"Bokeh: all callbacks have finished\");\n  }\n\n  function load_libs(css_urls, js_urls, callback) {\n    if (css_urls == null) css_urls = [];\n    if (js_urls == null) js_urls = [];\n\n    root._bokeh_onload_callbacks.push(callback);\n    if (root._bokeh_is_loading > 0) {\n      console.debug(\"Bokeh: BokehJS is being loaded, scheduling callback at\", now());\n      return null;\n    }\n    if (js_urls == null || js_urls.length === 0) {\n      run_callbacks();\n      return null;\n    }\n    console.debug(\"Bokeh: BokehJS not loaded, scheduling load and callback at\", now());\n    root._bokeh_is_loading = css_urls.length + js_urls.length;\n\n    function on_load() {\n      root._bokeh_is_loading--;\n      if (root._bokeh_is_loading === 0) {\n        console.debug(\"Bokeh: all BokehJS libraries/stylesheets loaded\");\n        run_callbacks()\n      }\n    }\n\n    function on_error(url) {\n      console.error(\"failed to load \" + url);\n    }\n\n    for (let i = 0; i < css_urls.length; i++) {\n      const url = css_urls[i];\n      const element = document.createElement(\"link\");\n      element.onload = on_load;\n      element.onerror = on_error.bind(null, url);\n      element.rel = \"stylesheet\";\n      element.type = \"text/css\";\n      element.href = url;\n      console.debug(\"Bokeh: injecting link tag for BokehJS stylesheet: \", url);\n      document.body.appendChild(element);\n    }\n\n    for (let i = 0; i < js_urls.length; i++) {\n      const url = js_urls[i];\n      const element = document.createElement('script');\n      element.onload = on_load;\n      element.onerror = on_error.bind(null, url);\n      element.async = false;\n      element.src = url;\n      console.debug(\"Bokeh: injecting script tag for BokehJS library: \", url);\n      document.head.appendChild(element);\n    }\n  };\n\n  function inject_raw_css(css) {\n    const element = document.createElement(\"style\");\n    element.appendChild(document.createTextNode(css));\n    document.body.appendChild(element);\n  }\n\n  const js_urls = [\"https://cdn.bokeh.org/bokeh/release/bokeh-3.4.1.min.js\", \"https://cdn.bokeh.org/bokeh/release/bokeh-gl-3.4.1.min.js\", \"https://cdn.bokeh.org/bokeh/release/bokeh-widgets-3.4.1.min.js\", \"https://cdn.bokeh.org/bokeh/release/bokeh-tables-3.4.1.min.js\", \"https://cdn.bokeh.org/bokeh/release/bokeh-mathjax-3.4.1.min.js\"];\n  const css_urls = [];\n\n  const inline_js = [    function(Bokeh) {\n      Bokeh.set_log_level(\"info\");\n    },\nfunction(Bokeh) {\n    }\n  ];\n\n  function run_inline_js() {\n    if (root.Bokeh !== undefined || force === true) {\n      try {\n            for (let i = 0; i < inline_js.length; i++) {\n      inline_js[i].call(root, root.Bokeh);\n    }\n\n      } catch (error) {display_loaded(error);throw error;\n      }if (force === true) {\n        display_loaded();\n      }} else if (Date.now() < root._bokeh_timeout) {\n      setTimeout(run_inline_js, 100);\n    } else if (!root._bokeh_failed_load) {\n      console.log(\"Bokeh: BokehJS failed to load within specified timeout.\");\n      root._bokeh_failed_load = true;\n    } else if (force !== true) {\n      const cell = $(document.getElementById(\"d4c42305-8b2b-48f8-bdfc-50f39a6afa2b\")).parents('.cell').data().cell;\n      cell.output_area.append_execute_result(NB_LOAD_WARNING)\n    }\n  }\n\n  if (root._bokeh_is_loading === 0) {\n    console.debug(\"Bokeh: BokehJS loaded, going straight to plotting\");\n    run_inline_js();\n  } else {\n    load_libs(css_urls, js_urls, function() {\n      console.debug(\"Bokeh: BokehJS plotting callback run at\", now());\n      run_inline_js();\n    });\n  }\n}(window));",
      "application/vnd.bokehjs_load.v0+json": "'use strict';\n(function(root) {\n  function now() {\n    return new Date();\n  }\n\n  const force = true;\n\n  if (typeof root._bokeh_onload_callbacks === \"undefined\" || force === true) {\n    root._bokeh_onload_callbacks = [];\n    root._bokeh_is_loading = undefined;\n  }\n\n\n  if (typeof (root._bokeh_timeout) === \"undefined\" || force === true) {\n    root._bokeh_timeout = Date.now() + 5000;\n    root._bokeh_failed_load = false;\n  }\n\n  const NB_LOAD_WARNING = {'data': {'text/html':\n     \"<div style='background-color: #fdd'>\\n\"+\n     \"<p>\\n\"+\n     \"BokehJS does not appear to have successfully loaded. If loading BokehJS from CDN, this \\n\"+\n     \"may be due to a slow or bad network connection. Possible fixes:\\n\"+\n     \"</p>\\n\"+\n     \"<ul>\\n\"+\n     \"<li>re-rerun `output_notebook()` to attempt to load from CDN again, or</li>\\n\"+\n     \"<li>use INLINE resources instead, as so:</li>\\n\"+\n     \"</ul>\\n\"+\n     \"<code>\\n\"+\n     \"from bokeh.resources import INLINE\\n\"+\n     \"output_notebook(resources=INLINE)\\n\"+\n     \"</code>\\n\"+\n     \"</div>\"}};\n\n  function display_loaded(error = null) {\n    const el = document.getElementById(\"d4c42305-8b2b-48f8-bdfc-50f39a6afa2b\");\n    if (el != null) {\n      const html = (() => {\n        if (typeof root.Bokeh === \"undefined\") {\n          if (error == null) {\n            return \"BokehJS is loading ...\";\n          } else {\n            return \"BokehJS failed to load.\";\n          }\n        } else {\n          const prefix = `BokehJS ${root.Bokeh.version}`;\n          if (error == null) {\n            return `${prefix} successfully loaded.`;\n          } else {\n            return `${prefix} <b>encountered errors</b> while loading and may not function as expected.`;\n          }\n        }\n      })();\n      el.innerHTML = html;\n\n      if (error != null) {\n        const wrapper = document.createElement(\"div\");\n        wrapper.style.overflow = \"auto\";\n        wrapper.style.height = \"5em\";\n        wrapper.style.resize = \"vertical\";\n        const content = document.createElement(\"div\");\n        content.style.fontFamily = \"monospace\";\n        content.style.whiteSpace = \"pre-wrap\";\n        content.style.backgroundColor = \"rgb(255, 221, 221)\";\n        content.textContent = error.stack ?? error.toString();\n        wrapper.append(content);\n        el.append(wrapper);\n      }\n    } else if (Date.now() < root._bokeh_timeout) {\n      setTimeout(() => display_loaded(error), 100);\n    }\n  }\n\n  function run_callbacks() {\n    try {\n      root._bokeh_onload_callbacks.forEach(function(callback) {\n        if (callback != null)\n          callback();\n      });\n    } finally {\n      delete root._bokeh_onload_callbacks\n    }\n    console.debug(\"Bokeh: all callbacks have finished\");\n  }\n\n  function load_libs(css_urls, js_urls, callback) {\n    if (css_urls == null) css_urls = [];\n    if (js_urls == null) js_urls = [];\n\n    root._bokeh_onload_callbacks.push(callback);\n    if (root._bokeh_is_loading > 0) {\n      console.debug(\"Bokeh: BokehJS is being loaded, scheduling callback at\", now());\n      return null;\n    }\n    if (js_urls == null || js_urls.length === 0) {\n      run_callbacks();\n      return null;\n    }\n    console.debug(\"Bokeh: BokehJS not loaded, scheduling load and callback at\", now());\n    root._bokeh_is_loading = css_urls.length + js_urls.length;\n\n    function on_load() {\n      root._bokeh_is_loading--;\n      if (root._bokeh_is_loading === 0) {\n        console.debug(\"Bokeh: all BokehJS libraries/stylesheets loaded\");\n        run_callbacks()\n      }\n    }\n\n    function on_error(url) {\n      console.error(\"failed to load \" + url);\n    }\n\n    for (let i = 0; i < css_urls.length; i++) {\n      const url = css_urls[i];\n      const element = document.createElement(\"link\");\n      element.onload = on_load;\n      element.onerror = on_error.bind(null, url);\n      element.rel = \"stylesheet\";\n      element.type = \"text/css\";\n      element.href = url;\n      console.debug(\"Bokeh: injecting link tag for BokehJS stylesheet: \", url);\n      document.body.appendChild(element);\n    }\n\n    for (let i = 0; i < js_urls.length; i++) {\n      const url = js_urls[i];\n      const element = document.createElement('script');\n      element.onload = on_load;\n      element.onerror = on_error.bind(null, url);\n      element.async = false;\n      element.src = url;\n      console.debug(\"Bokeh: injecting script tag for BokehJS library: \", url);\n      document.head.appendChild(element);\n    }\n  };\n\n  function inject_raw_css(css) {\n    const element = document.createElement(\"style\");\n    element.appendChild(document.createTextNode(css));\n    document.body.appendChild(element);\n  }\n\n  const js_urls = [\"https://cdn.bokeh.org/bokeh/release/bokeh-3.4.1.min.js\", \"https://cdn.bokeh.org/bokeh/release/bokeh-gl-3.4.1.min.js\", \"https://cdn.bokeh.org/bokeh/release/bokeh-widgets-3.4.1.min.js\", \"https://cdn.bokeh.org/bokeh/release/bokeh-tables-3.4.1.min.js\", \"https://cdn.bokeh.org/bokeh/release/bokeh-mathjax-3.4.1.min.js\"];\n  const css_urls = [];\n\n  const inline_js = [    function(Bokeh) {\n      Bokeh.set_log_level(\"info\");\n    },\nfunction(Bokeh) {\n    }\n  ];\n\n  function run_inline_js() {\n    if (root.Bokeh !== undefined || force === true) {\n      try {\n            for (let i = 0; i < inline_js.length; i++) {\n      inline_js[i].call(root, root.Bokeh);\n    }\n\n      } catch (error) {display_loaded(error);throw error;\n      }if (force === true) {\n        display_loaded();\n      }} else if (Date.now() < root._bokeh_timeout) {\n      setTimeout(run_inline_js, 100);\n    } else if (!root._bokeh_failed_load) {\n      console.log(\"Bokeh: BokehJS failed to load within specified timeout.\");\n      root._bokeh_failed_load = true;\n    } else if (force !== true) {\n      const cell = $(document.getElementById(\"d4c42305-8b2b-48f8-bdfc-50f39a6afa2b\")).parents('.cell').data().cell;\n      cell.output_area.append_execute_result(NB_LOAD_WARNING)\n    }\n  }\n\n  if (root._bokeh_is_loading === 0) {\n    console.debug(\"Bokeh: BokehJS loaded, going straight to plotting\");\n    run_inline_js();\n  } else {\n    load_libs(css_urls, js_urls, function() {\n      console.debug(\"Bokeh: BokehJS plotting callback run at\", now());\n      run_inline_js();\n    });\n  }\n}(window));"
     },
     "metadata": {},
     "output_type": "display_data"
    }
   ],
   "execution_count": 37
  },
  {
   "cell_type": "markdown",
   "id": "247ffa4c-3f9d-4549-8158-74a94d2d0d23",
   "metadata": {
    "slideshow": {
     "slide_type": "slide"
    }
   },
   "source": [
    "## Generate data\n",
    "We create random points on a plane and compute the Euclidean distance:"
   ]
  },
  {
   "cell_type": "code",
   "id": "685f42b4-68db-48db-89e7-4fef7a13ed6d",
   "metadata": {
    "slideshow": {
     "slide_type": "subslide"
    },
    "ExecuteTime": {
     "end_time": "2024-07-13T09:04:15.804109Z",
     "start_time": "2024-07-13T09:04:15.788574Z"
    }
   },
   "source": [
    "n = 30\n",
    "\n",
    "random.seed(1)\n",
    "points = [(random.randint(0, 100), random.randint(0, 100)) for i in range(n)]\n",
    "print(points)\n",
    "\n",
    "# Dictionary of Euclidean distance between each pair of points\n",
    "dist = {(i, j):\n",
    "        math.sqrt(sum((points[i][k]-points[j][k])**2 for k in range(2)))\n",
    "        for i in range(n) for j in range(i)}"
   ],
   "outputs": [
    {
     "name": "stdout",
     "output_type": "stream",
     "text": [
      "[(17, 72), (97, 8), (32, 15), (63, 97), (57, 60), (83, 48), (100, 26), (12, 62), (3, 49), (55, 77), (97, 98), (0, 89), (57, 34), (92, 29), (75, 13), (40, 3), (2, 3), (83, 69), (1, 48), (87, 27), (54, 92), (3, 67), (28, 97), (56, 63), (70, 29), (44, 29), (86, 28), (97, 58), (37, 2), (53, 71)]\n"
     ]
    }
   ],
   "execution_count": 40
  },
  {
   "cell_type": "markdown",
   "id": "7e12c732-40e7-48b4-8941-00fc25468bc7",
   "metadata": {
    "slideshow": {
     "slide_type": "slide"
    }
   },
   "source": [
    "## Collect runtimes\n",
    "A dictionary and a function to collect runtimes"
   ]
  },
  {
   "cell_type": "code",
   "id": "16e12d13-923b-4b86-b2e9-23e9da21b799",
   "metadata": {
    "slideshow": {
     "slide_type": "subslide"
    },
    "ExecuteTime": {
     "end_time": "2024-07-13T09:05:24.322374Z",
     "start_time": "2024-07-13T09:05:24.293149Z"
    }
   },
   "source": [
    "runtimes = {'methods': [], 'optimal': [], 'firstsol': []}\n",
    "\n",
    "def addruntimes(runtimes, method, model):\n",
    "\n",
    "    # remove old copy, if one exists\n",
    "    try:\n",
    "        i = runtimes['methods'].index(method)\n",
    "        for rt in runtimes.values():\n",
    "            rt.pop(i)\n",
    "    except ValueError:\n",
    "        pass\n",
    "\n",
    "    # add new value\n",
    "    runtimes['methods'].append(method)\n",
    "    runtimes['optimal'].append(model.Runtime)\n",
    "    try:\n",
    "        runtimes['firstsol'].append(model._firstsoltime)\n",
    "    except AttributeError:\n",
    "        runtimes['firstsol'].append(model.Runtime)"
   ],
   "outputs": [],
   "execution_count": 41
  },
  {
   "cell_type": "markdown",
   "id": "f6e5d2a9-ae4a-45d7-9d47-bf84283e8bde",
   "metadata": {
    "slideshow": {
     "slide_type": "slide"
    }
   },
   "source": [
    "## Generate model and solve with basic callback\n",
    "Without any customization, the callback function `tspcb` simply finds subtours and adds constraints to prevent them."
   ]
  },
  {
   "cell_type": "code",
   "id": "8c3f1bab-c276-4b0a-8588-c701f7bb4677",
   "metadata": {
    "slideshow": {
     "slide_type": "subslide"
    },
    "ExecuteTime": {
     "end_time": "2024-07-13T09:05:27.853007Z",
     "start_time": "2024-07-13T09:05:27.614244Z"
    }
   },
   "source": [
    "m = tspmip(n, dist)\n",
    "t = time.time()\n",
    "m.optimize(tspcb())\n",
    "checksol(m, t)\n",
    "addruntimes(runtimes, 'noheur', m)"
   ],
   "outputs": [
    {
     "name": "stdout",
     "output_type": "stream",
     "text": [
      "Set parameter LazyConstraints to value 1\n",
      "Set parameter MIPGap to value 0\n",
      "Set parameter TimeLimit to value 60\n",
      "Set parameter MIPGapAbs to value 6.5069645583264446e-03\n",
      "Gurobi Optimizer version 11.0.1 build v11.0.1rc0 (win64 - Windows 11.0 (22631.2))\n",
      "\n",
      "CPU model: Intel(R) Core(TM) Ultra 5 125H, instruction set [SSE2|AVX|AVX2]\n",
      "Thread count: 14 physical cores, 18 logical processors, using up to 18 threads\n",
      "\n",
      "Optimize a model with 30 rows, 435 columns and 870 nonzeros\n",
      "Model fingerprint: 0x4841669a\n",
      "Variable types: 0 continuous, 435 integer (435 binary)\n",
      "Coefficient statistics:\n",
      "  Matrix range     [1e+00, 1e+00]\n",
      "  Objective range  [1e+00, 1e+02]\n",
      "  Bounds range     [1e+00, 1e+00]\n",
      "  RHS range        [2e+00, 2e+00]\n",
      "MIPSOL 1282\n",
      "MIPSOL2 1282\n",
      "Presolve time: 0.00s\n",
      "Presolved: 30 rows, 435 columns, 870 nonzeros\n",
      "Variable types: 0 continuous, 435 integer (435 binary)\n",
      "MIPSOL 1351\n",
      "MIPSOL2 1351\n",
      "\n",
      "Root relaxation: objective 5.008619e+02, 40 iterations, 0.00 seconds (0.00 work units)\n",
      "\n",
      "    Nodes    |    Current Node    |     Objective Bounds      |     Work\n",
      " Expl Unexpl |  Obj  Depth IntInf | Incumbent    BestBd   Gap | It/Node Time\n",
      "\n",
      "     0     0  500.86193    0    6          -  500.86193      -     -    0s\n",
      "MIPSOL 1361\n",
      "MIPSOL2 1361\n",
      "MIPSOL 1362\n",
      "MIPSOL2 1362\n",
      "MIPSOL 1363\n",
      "MIPSOL2 1363\n",
      "H    0     0                     525.4722414  500.86193  4.68%     -    0s\n",
      "MIPSOL 1366\n",
      "MIPSOL2 1366\n",
      "H    0     0                     523.3675097  500.86193  4.30%     -    0s\n",
      "MIPNODE1 1370\n",
      "MIPNODE2 1370\n",
      "     0     0  506.67260    0    6  523.36751  506.67260  3.19%     -    0s\n",
      "MIPNODE1 1377\n",
      "MIPNODE2 1377\n",
      "     0     0  506.67260    0    6  523.36751  506.67260  3.19%     -    0s\n",
      "MIPNODE1 1509\n",
      "MIPNODE2 1509\n",
      "MIPSOL 1513\n",
      "MIPSOL2 1513\n",
      "     0     0  511.07741    0    -  523.36751  511.07741  2.35%     -    0s\n",
      "     0     0  513.27964    0    6  523.36751  513.27964  1.93%     -    0s\n",
      "MIPNODE1 1522\n",
      "MIPNODE2 1522\n",
      "     0     0  519.87895    0   11  523.36751  519.87895  0.67%     -    0s\n",
      "MIPNODE1 1530\n",
      "MIPNODE2 1530\n",
      "     0     0  519.87895    0    6  523.36751  519.87895  0.67%     -    0s\n",
      "MIPNODE1 1714\n",
      "MIPNODE2 1714\n",
      "     0     0     cutoff    0       523.36751  523.36751  0.00%     -    0s\n",
      "\n",
      "Cutting planes:\n",
      "  Gomory: 5\n",
      "  Zero half: 2\n",
      "\n",
      "Explored 1 nodes (164 simplex iterations) in 0.06 seconds (0.01 work units)\n",
      "Thread count was 18 (of 18 available processors)\n",
      "\n",
      "Solution count 2: 523.368 525.472 \n",
      "\n",
      "Optimal solution found (tolerance 0.00e+00)\n",
      "Best objective 5.233675096913e+02, best bound 5.233675096913e+02, gap 0.0000%\n",
      "\n",
      "User-callback calls 151, time in user-callback 0.02 sec\n",
      "\n",
      "Optimal TSP tour: [6, 1, 14, 24, 12, 25, 2, 15, 28, 16, 18, 8, 21, 7, 0, 11, 22, 29, 23, 4, 9, 20, 3, 10, 17, 27, 5, 26, 19, 13]\n",
      "------------------------------------------\n",
      "------------------------------------------\n",
      "Cost: 523.3675096912949 runtime : 0.07279324531555176\n"
     ]
    },
    {
     "name": "stderr",
     "output_type": "stream",
     "text": [
      "BokehDeprecationWarning: 'circle() method with size value' was deprecated in Bokeh 3.4.0 and will be removed, use 'scatter(size=...) instead' instead.\n"
     ]
    },
    {
     "data": {
      "text/html": [
       "\n",
       "  <div id=\"a87d2270-7357-495f-900d-7f4f1c478f5a\" data-root-id=\"p1743\" style=\"display: contents;\"></div>\n"
      ]
     },
     "metadata": {},
     "output_type": "display_data"
    },
    {
     "data": {
      "application/javascript": "(function(root) {\n  function embed_document(root) {\n  const docs_json = {\"2643b85c-afec-40be-9396-db6757c54cfe\":{\"version\":\"3.4.1\",\"title\":\"Bokeh Application\",\"roots\":[{\"type\":\"object\",\"name\":\"Figure\",\"id\":\"p1743\",\"attributes\":{\"x_range\":{\"type\":\"object\",\"name\":\"Range1d\",\"id\":\"p1753\",\"attributes\":{\"end\":100}},\"y_range\":{\"type\":\"object\",\"name\":\"Range1d\",\"id\":\"p1754\",\"attributes\":{\"end\":100}},\"x_scale\":{\"type\":\"object\",\"name\":\"LinearScale\",\"id\":\"p1755\"},\"y_scale\":{\"type\":\"object\",\"name\":\"LinearScale\",\"id\":\"p1756\"},\"title\":{\"type\":\"object\",\"name\":\"Title\",\"id\":\"p1746\",\"attributes\":{\"text\":\"Optimal TSP tour on 30 cities, length=523.367510\",\"text_color\":\"#E0E0E0\",\"text_font\":\"Helvetica\",\"text_font_size\":\"1.15em\"}},\"outline_line_color\":\"#E0E0E0\",\"outline_line_alpha\":0.25,\"renderers\":[{\"type\":\"object\",\"name\":\"GlyphRenderer\",\"id\":\"p1784\",\"attributes\":{\"data_source\":{\"type\":\"object\",\"name\":\"ColumnDataSource\",\"id\":\"p1778\",\"attributes\":{\"selected\":{\"type\":\"object\",\"name\":\"Selection\",\"id\":\"p1779\",\"attributes\":{\"indices\":[],\"line_indices\":[]}},\"selection_policy\":{\"type\":\"object\",\"name\":\"UnionRenderers\",\"id\":\"p1780\"},\"data\":{\"type\":\"map\",\"entries\":[[\"x\",[17,97,32,63,57,83,100,12,3,55,97,0,57,92,75,40,2,83,1,87,54,3,28,56,70,44,86,97,37,53]],[\"y\",[72,8,15,97,60,48,26,62,49,77,98,89,34,29,13,3,3,69,48,27,92,67,97,63,29,29,28,58,2,71]]]}}},\"view\":{\"type\":\"object\",\"name\":\"CDSView\",\"id\":\"p1785\",\"attributes\":{\"filter\":{\"type\":\"object\",\"name\":\"AllIndices\",\"id\":\"p1786\"}}},\"glyph\":{\"type\":\"object\",\"name\":\"Scatter\",\"id\":\"p1781\",\"attributes\":{\"x\":{\"type\":\"field\",\"field\":\"x\"},\"y\":{\"type\":\"field\",\"field\":\"y\"},\"size\":{\"type\":\"value\",\"value\":8},\"line_color\":{\"type\":\"value\",\"value\":\"#1f77b4\"},\"fill_color\":{\"type\":\"value\",\"value\":\"#1f77b4\"}}},\"nonselection_glyph\":{\"type\":\"object\",\"name\":\"Scatter\",\"id\":\"p1782\",\"attributes\":{\"x\":{\"type\":\"field\",\"field\":\"x\"},\"y\":{\"type\":\"field\",\"field\":\"y\"},\"size\":{\"type\":\"value\",\"value\":8},\"line_color\":{\"type\":\"value\",\"value\":\"#1f77b4\"},\"line_alpha\":{\"type\":\"value\",\"value\":0.1},\"fill_color\":{\"type\":\"value\",\"value\":\"#1f77b4\"},\"fill_alpha\":{\"type\":\"value\",\"value\":0.1},\"hatch_alpha\":{\"type\":\"value\",\"value\":0.1}}},\"muted_glyph\":{\"type\":\"object\",\"name\":\"Scatter\",\"id\":\"p1783\",\"attributes\":{\"x\":{\"type\":\"field\",\"field\":\"x\"},\"y\":{\"type\":\"field\",\"field\":\"y\"},\"size\":{\"type\":\"value\",\"value\":8},\"line_color\":{\"type\":\"value\",\"value\":\"#1f77b4\"},\"line_alpha\":{\"type\":\"value\",\"value\":0.2},\"fill_color\":{\"type\":\"value\",\"value\":\"#1f77b4\"},\"fill_alpha\":{\"type\":\"value\",\"value\":0.2},\"hatch_alpha\":{\"type\":\"value\",\"value\":0.2}}}}},{\"type\":\"object\",\"name\":\"GlyphRenderer\",\"id\":\"p1793\",\"attributes\":{\"data_source\":{\"type\":\"object\",\"name\":\"ColumnDataSource\",\"id\":\"p1787\",\"attributes\":{\"selected\":{\"type\":\"object\",\"name\":\"Selection\",\"id\":\"p1788\",\"attributes\":{\"indices\":[],\"line_indices\":[]}},\"selection_policy\":{\"type\":\"object\",\"name\":\"UnionRenderers\",\"id\":\"p1789\"},\"data\":{\"type\":\"map\",\"entries\":[[\"x\",[100,97,75,70,57,44,32,40,37,2,1,3,3,12,17,0,28,53,56,57,55,54,63,97,83,97,83,86,87,92,100]],[\"y\",[26,8,13,29,34,29,15,3,2,3,48,49,67,62,72,89,97,71,63,60,77,92,97,98,69,58,48,28,27,29,26]]]}}},\"view\":{\"type\":\"object\",\"name\":\"CDSView\",\"id\":\"p1794\",\"attributes\":{\"filter\":{\"type\":\"object\",\"name\":\"AllIndices\",\"id\":\"p1795\"}}},\"glyph\":{\"type\":\"object\",\"name\":\"Line\",\"id\":\"p1790\",\"attributes\":{\"x\":{\"type\":\"field\",\"field\":\"x\"},\"y\":{\"type\":\"field\",\"field\":\"y\"},\"line_color\":\"#1f77b4\"}},\"nonselection_glyph\":{\"type\":\"object\",\"name\":\"Line\",\"id\":\"p1791\",\"attributes\":{\"x\":{\"type\":\"field\",\"field\":\"x\"},\"y\":{\"type\":\"field\",\"field\":\"y\"},\"line_color\":\"#1f77b4\",\"line_alpha\":0.1}},\"muted_glyph\":{\"type\":\"object\",\"name\":\"Line\",\"id\":\"p1792\",\"attributes\":{\"x\":{\"type\":\"field\",\"field\":\"x\"},\"y\":{\"type\":\"field\",\"field\":\"y\"},\"line_color\":\"#1f77b4\",\"line_alpha\":0.2}}}}],\"toolbar\":{\"type\":\"object\",\"name\":\"Toolbar\",\"id\":\"p1752\",\"attributes\":{\"tools\":[{\"type\":\"object\",\"name\":\"PanTool\",\"id\":\"p1767\"},{\"type\":\"object\",\"name\":\"WheelZoomTool\",\"id\":\"p1768\",\"attributes\":{\"renderers\":\"auto\"}},{\"type\":\"object\",\"name\":\"BoxZoomTool\",\"id\":\"p1769\",\"attributes\":{\"overlay\":{\"type\":\"object\",\"name\":\"BoxAnnotation\",\"id\":\"p1770\",\"attributes\":{\"syncable\":false,\"level\":\"overlay\",\"visible\":false,\"left\":{\"type\":\"number\",\"value\":\"nan\"},\"right\":{\"type\":\"number\",\"value\":\"nan\"},\"top\":{\"type\":\"number\",\"value\":\"nan\"},\"bottom\":{\"type\":\"number\",\"value\":\"nan\"},\"left_units\":\"canvas\",\"right_units\":\"canvas\",\"top_units\":\"canvas\",\"bottom_units\":\"canvas\",\"line_color\":\"black\",\"line_alpha\":1.0,\"line_width\":2,\"line_dash\":[4,4],\"fill_color\":\"lightgrey\",\"fill_alpha\":0.5}}}},{\"type\":\"object\",\"name\":\"SaveTool\",\"id\":\"p1775\"},{\"type\":\"object\",\"name\":\"ResetTool\",\"id\":\"p1776\"},{\"type\":\"object\",\"name\":\"HelpTool\",\"id\":\"p1777\"}]}},\"left\":[{\"type\":\"object\",\"name\":\"LinearAxis\",\"id\":\"p1762\",\"attributes\":{\"ticker\":{\"type\":\"object\",\"name\":\"BasicTicker\",\"id\":\"p1763\",\"attributes\":{\"mantissas\":[1,2,5]}},\"formatter\":{\"type\":\"object\",\"name\":\"BasicTickFormatter\",\"id\":\"p1764\"},\"axis_label_standoff\":10,\"axis_label_text_color\":\"#E0E0E0\",\"axis_label_text_font\":\"Helvetica\",\"axis_label_text_font_size\":\"1.25em\",\"axis_label_text_font_style\":\"normal\",\"major_label_policy\":{\"type\":\"object\",\"name\":\"AllLabels\",\"id\":\"p1765\"},\"major_label_text_color\":\"#E0E0E0\",\"major_label_text_font\":\"Helvetica\",\"major_label_text_font_size\":\"1.025em\",\"axis_line_color\":\"#E0E0E0\",\"axis_line_alpha\":0,\"major_tick_line_color\":\"#E0E0E0\",\"major_tick_line_alpha\":0,\"minor_tick_line_color\":\"#E0E0E0\",\"minor_tick_line_alpha\":0}}],\"below\":[{\"type\":\"object\",\"name\":\"LinearAxis\",\"id\":\"p1757\",\"attributes\":{\"ticker\":{\"type\":\"object\",\"name\":\"BasicTicker\",\"id\":\"p1758\",\"attributes\":{\"mantissas\":[1,2,5]}},\"formatter\":{\"type\":\"object\",\"name\":\"BasicTickFormatter\",\"id\":\"p1759\"},\"axis_label_standoff\":10,\"axis_label_text_color\":\"#E0E0E0\",\"axis_label_text_font\":\"Helvetica\",\"axis_label_text_font_size\":\"1.25em\",\"axis_label_text_font_style\":\"normal\",\"major_label_policy\":{\"type\":\"object\",\"name\":\"AllLabels\",\"id\":\"p1760\"},\"major_label_text_color\":\"#E0E0E0\",\"major_label_text_font\":\"Helvetica\",\"major_label_text_font_size\":\"1.025em\",\"axis_line_color\":\"#E0E0E0\",\"axis_line_alpha\":0,\"major_tick_line_color\":\"#E0E0E0\",\"major_tick_line_alpha\":0,\"minor_tick_line_color\":\"#E0E0E0\",\"minor_tick_line_alpha\":0}}],\"center\":[{\"type\":\"object\",\"name\":\"Grid\",\"id\":\"p1761\",\"attributes\":{\"axis\":{\"id\":\"p1757\"},\"grid_line_color\":\"#E0E0E0\",\"grid_line_alpha\":0.25}},{\"type\":\"object\",\"name\":\"Grid\",\"id\":\"p1766\",\"attributes\":{\"dimension\":1,\"axis\":{\"id\":\"p1762\"},\"grid_line_color\":\"#E0E0E0\",\"grid_line_alpha\":0.25}}],\"background_fill_color\":\"#20262B\",\"border_fill_color\":\"#15191C\"}}]}};\n  const render_items = [{\"docid\":\"2643b85c-afec-40be-9396-db6757c54cfe\",\"roots\":{\"p1743\":\"a87d2270-7357-495f-900d-7f4f1c478f5a\"},\"root_ids\":[\"p1743\"]}];\n  void root.Bokeh.embed.embed_items_notebook(docs_json, render_items);\n  }\n  if (root.Bokeh !== undefined) {\n    embed_document(root);\n  } else {\n    let attempts = 0;\n    const timer = setInterval(function(root) {\n      if (root.Bokeh !== undefined) {\n        clearInterval(timer);\n        embed_document(root);\n      } else {\n        attempts++;\n        if (attempts > 100) {\n          clearInterval(timer);\n          console.log(\"Bokeh: ERROR: Unable to run BokehJS code because BokehJS library is missing\");\n        }\n      }\n    }, 10, root)\n  }\n})(window);",
      "application/vnd.bokehjs_exec.v0+json": ""
     },
     "metadata": {
      "application/vnd.bokehjs_exec.v0+json": {
       "id": "p1743"
      }
     },
     "output_type": "display_data"
    },
    {
     "name": "stdout",
     "output_type": "stream",
     "text": [
      "\n"
     ]
    }
   ],
   "execution_count": 42
  },
  {
   "cell_type": "markdown",
   "id": "4d9aeb59-f4e4-4a6c-a161-804e55786f0f",
   "metadata": {
    "slideshow": {
     "slide_type": "slide"
    }
   },
   "source": [
    "## Heuristic Code\n",
    "A Python class that computes some standard TSP heuristics:\n",
    "\n",
    "1. Greedy node insertion\n",
    "1. Subtour node patching\n",
    "1. Solution improvement via swapping\n",
    "\n",
    "In both the greedy and patch heuristics, we use Python aggreate [min](https://docs.python.org/3/library/functions.html#min) functions with a key function so that we can obtain the argmin value. The key is specified as a [lambda function](https://docs.python.org/3/reference/expressions.html#lambda) so that we don't need to define a named function."
   ]
  },
  {
   "cell_type": "code",
   "id": "0b054d7b-d669-4160-80fd-f78707951a6a",
   "metadata": {
    "slideshow": {
     "slide_type": "subslide"
    },
    "ExecuteTime": {
     "end_time": "2024-07-13T09:09:22.936014Z",
     "start_time": "2024-07-13T09:09:22.904310Z"
    }
   },
   "source": [
    "class pytsp:\n",
    "    def __init__(self, n, dist, logging=False):\n",
    "        self.n = n\n",
    "        self.dist = dist\n",
    "        self.logging = logging\n",
    "    \n",
    "    # Construct a heuristic tour via greedy insertion\n",
    "    def greedy(self, dist=None, sense=1):\n",
    "        if not dist:\n",
    "            dist = self.dist\n",
    "        unexplored = list(range(n))\n",
    "        tour = []\n",
    "        prev = 0\n",
    "        while unexplored:\n",
    "            best = min((i for i in unexplored if i != prev), key=lambda k: sense*dist[prev,k])\n",
    "            tour.append(best)\n",
    "            unexplored.remove(best)\n",
    "            prev = best\n",
    "        if self.logging:\n",
    "            print(\"**** greedy heuristic tour=%f, obj=%f\" % (tourcost(self.dist, tour), tourcost(dist, tour)))\n",
    "        return tour\n",
    "\n",
    "    # Construct a heuristic tour via Karp patching method from subtours\n",
    "    def patch(self, subtours):\n",
    "        if self.logging:\n",
    "            print(\"**** patching %i subtours\" % len(subtours))\n",
    "        tours = list(subtours) # copy object to avoid destroying it\n",
    "        while len(tours) > 1:\n",
    "            # t1,t2 are tours to merge\n",
    "            # k1,k2 are positions to merge in the tours\n",
    "            # d is the direction - forwards or backwards\n",
    "            t2 = tours.pop()\n",
    "            # Find best merge\n",
    "            j1, k1, k2, d, obj = min(((j1,k1,k2,d,\n",
    "                                        self.dist[tours[j1][k1-1],  t2[k2-d]]      +\n",
    "                                        self.dist[tours[j1][k1],    t2[k2-1+d]]    -\n",
    "                                        self.dist[tours[j1][k1-1],  tours[j1][k1]] -\n",
    "                                        self.dist[t2[k2-1],         t2[k2]])\n",
    "                                      for j1 in range(len(tours))\n",
    "                                      for k1 in range(len(tours[j1]))\n",
    "                                      for k2 in range(len(t2))\n",
    "                                      for d in range(2)), # d=0 is forward, d=1 is reverse\n",
    "                                    key=lambda x: x[-1])\n",
    "            t1 = tours[j1]\n",
    "            k1 += 1 # include the position\n",
    "            k2 += 1\n",
    "            if d == 0: # forward\n",
    "                tour = t1[:k1]+t2[k2:]+t2[:k2]+t1[k1:]\n",
    "            else: # reverse\n",
    "                tour = t1[:k1]+list(reversed(t2[:k2]))+list(reversed(t2[k2:]))+t1[k1:]\n",
    "            tours[j1] = tour # replace j1 with new merge\n",
    "        if self.logging:\n",
    "            print(\"**** patched tour=%f\" % tourcost(self.dist, tour))\n",
    "        return tours[0]\n",
    "    \n",
    "    # Improve a tour via swapping\n",
    "    # This is simple - just do 2-opt\n",
    "    def swap(self, tour):\n",
    "        if self.logging:\n",
    "            beforecost = tourcost(self.dist, tour)\n",
    "        \n",
    "        for j1 in range(len(tour)):\n",
    "            for j2 in range(j1+1, len(tour)):\n",
    "                if self.dist[tour[j1-1],tour[j1]]+self.dist[tour[j2-1],tour[j2]] > \\\n",
    "                   self.dist[tour[j1-1],tour[j2-1]]+self.dist[tour[j1],tour[j2]]:\n",
    "                    # swap\n",
    "                    tour = tour[:j1] + list(reversed(tour[j1:j2])) + tour[j2:]\n",
    "                \n",
    "        if self.logging:\n",
    "            print(\"**** swapping: before=%f after=%f\" % (beforecost, tourcost(self.dist, tour)))\n",
    "        return tour"
   ],
   "outputs": [],
   "execution_count": 45
  },
  {
   "cell_type": "markdown",
   "id": "233d52a5",
   "metadata": {
    "slideshow": {
     "slide_type": "slide"
    }
   },
   "source": [
    "## Try swap heuristic\n",
    "When a tour has been discovered in the MIP, call the swap heuristic to try and improve it."
   ]
  },
  {
   "cell_type": "markdown",
   "id": "3118df64-5b40-4a3c-a294-979e37bd3318",
   "metadata": {
    "slideshow": {
     "slide_type": "slide"
    }
   },
   "source": [
    "### Callback for swap heuristic\n",
    "Since the base callback injects a tour at a MIP node, this should be called at a MIP node."
   ]
  },
  {
   "cell_type": "code",
   "id": "23a4ca59-6634-4a45-8a27-8961c24737c9",
   "metadata": {
    "slideshow": {
     "slide_type": "subslide"
    },
    "ExecuteTime": {
     "end_time": "2024-07-13T09:09:26.783992Z",
     "start_time": "2024-07-13T09:09:26.755825Z"
    }
   },
   "source": [
    "def swapcb(model, where):\n",
    "    if where == GRB.Callback.MIPNODE:\n",
    "        pt = pytsp(model._n, model._dist)\n",
    "        for k in range(len(model._tours)):\n",
    "            model._tours[k] = pt.swap(model._tours[k])"
   ],
   "outputs": [],
   "execution_count": 46
  },
  {
   "cell_type": "markdown",
   "id": "15447025-7dfd-423c-bba7-05efbe604577",
   "metadata": {
    "slideshow": {
     "slide_type": "slide"
    }
   },
   "source": [
    "### Solve the TSP with the swap heuristic\n",
    "By itself, this should be no faster at finding the first solution, but it may reduce the time to optimality."
   ]
  },
  {
   "cell_type": "code",
   "id": "8c7a074a-0e79-43ff-8372-e632e4ee1618",
   "metadata": {
    "slideshow": {
     "slide_type": "subslide"
    },
    "ExecuteTime": {
     "end_time": "2024-07-13T09:09:29.005351Z",
     "start_time": "2024-07-13T09:09:28.801585Z"
    }
   },
   "source": [
    "m = tspmip(n, dist)\n",
    "m.optimize(tspcb(swapcb))\n",
    "checksol(m, time.time())\n",
    "addruntimes(runtimes, 'swap', m)"
   ],
   "outputs": [
    {
     "name": "stdout",
     "output_type": "stream",
     "text": [
      "Set parameter LazyConstraints to value 1\n",
      "Set parameter MIPGap to value 0\n",
      "Set parameter TimeLimit to value 60\n",
      "Set parameter MIPGapAbs to value 6.5069645583264446e-03\n",
      "Gurobi Optimizer version 11.0.1 build v11.0.1rc0 (win64 - Windows 11.0 (22631.2))\n",
      "\n",
      "CPU model: Intel(R) Core(TM) Ultra 5 125H, instruction set [SSE2|AVX|AVX2]\n",
      "Thread count: 14 physical cores, 18 logical processors, using up to 18 threads\n",
      "\n",
      "Optimize a model with 30 rows, 435 columns and 870 nonzeros\n",
      "Model fingerprint: 0x4841669a\n",
      "Variable types: 0 continuous, 435 integer (435 binary)\n",
      "Coefficient statistics:\n",
      "  Matrix range     [1e+00, 1e+00]\n",
      "  Objective range  [1e+00, 1e+02]\n",
      "  Bounds range     [1e+00, 1e+00]\n",
      "  RHS range        [2e+00, 2e+00]\n",
      "MIPSOL 2212\n",
      "MIPSOL2 2212\n",
      "Presolve time: 0.00s\n",
      "Presolved: 30 rows, 435 columns, 870 nonzeros\n",
      "Variable types: 0 continuous, 435 integer (435 binary)\n",
      "MIPSOL 2281\n",
      "MIPSOL2 2281\n",
      "\n",
      "Root relaxation: objective 5.008619e+02, 40 iterations, 0.00 seconds (0.00 work units)\n",
      "\n",
      "    Nodes    |    Current Node    |     Objective Bounds      |     Work\n",
      " Expl Unexpl |  Obj  Depth IntInf | Incumbent    BestBd   Gap | It/Node Time\n",
      "\n",
      "     0     0  500.86193    0    6          -  500.86193      -     -    0s\n",
      "MIPSOL 2292\n",
      "MIPSOL2 2292\n",
      "MIPSOL 2294\n",
      "MIPSOL2 2294\n",
      "MIPSOL 2295\n",
      "MIPSOL2 2295\n",
      "H    0     0                     525.4722414  500.86193  4.68%     -    0s\n",
      "MIPSOL 2298\n",
      "MIPSOL2 2298\n",
      "H    0     0                     523.3675097  500.86193  4.30%     -    0s\n",
      "MIPNODE1 2301\n",
      "MIPNODE2 2301\n",
      "     0     0  506.67260    0    6  523.36751  506.67260  3.19%     -    0s\n",
      "MIPNODE1 2308\n",
      "MIPNODE2 2308\n",
      "     0     0  506.67260    0    6  523.36751  506.67260  3.19%     -    0s\n",
      "MIPNODE1 2439\n",
      "MIPNODE2 2439\n",
      "MIPSOL 2442\n",
      "MIPSOL2 2442\n",
      "     0     0  511.07741    0    -  523.36751  511.07741  2.35%     -    0s\n",
      "     0     0  513.27964    0    6  523.36751  513.27964  1.93%     -    0s\n",
      "MIPNODE1 2451\n",
      "MIPNODE2 2451\n",
      "     0     0  519.87895    0   11  523.36751  519.87895  0.67%     -    0s\n",
      "MIPNODE1 2459\n",
      "MIPNODE2 2459\n",
      "     0     0  519.87895    0    6  523.36751  519.87895  0.67%     -    0s\n",
      "MIPNODE1 2643\n",
      "MIPNODE2 2643\n",
      "     0     0     cutoff    0       523.36751  523.36751  0.00%     -    0s\n",
      "\n",
      "Cutting planes:\n",
      "  Gomory: 5\n",
      "  Zero half: 2\n",
      "\n",
      "Explored 1 nodes (164 simplex iterations) in 0.07 seconds (0.01 work units)\n",
      "Thread count was 18 (of 18 available processors)\n",
      "\n",
      "Solution count 2: 523.368 525.472 \n",
      "\n",
      "Optimal solution found (tolerance 0.00e+00)\n",
      "Best objective 5.233675096913e+02, best bound 5.233675096913e+02, gap 0.0000%\n",
      "\n",
      "User-callback calls 150, time in user-callback 0.01 sec\n",
      "\n",
      "Optimal TSP tour: [6, 1, 14, 24, 12, 25, 2, 15, 28, 16, 18, 8, 21, 7, 0, 11, 22, 29, 23, 4, 9, 20, 3, 10, 17, 27, 5, 26, 19, 13]\n",
      "------------------------------------------\n",
      "------------------------------------------\n",
      "Cost: 523.3675096912949 runtime : 0.0009844303131103516\n"
     ]
    },
    {
     "name": "stderr",
     "output_type": "stream",
     "text": [
      "BokehDeprecationWarning: 'circle() method with size value' was deprecated in Bokeh 3.4.0 and will be removed, use 'scatter(size=...) instead' instead.\n"
     ]
    },
    {
     "data": {
      "text/html": [
       "\n",
       "  <div id=\"bcfb9073-3c68-4661-a17d-2dea64879abe\" data-root-id=\"p1849\" style=\"display: contents;\"></div>\n"
      ]
     },
     "metadata": {},
     "output_type": "display_data"
    },
    {
     "data": {
      "application/javascript": "(function(root) {\n  function embed_document(root) {\n  const docs_json = {\"5c2bff65-a7d1-4e79-8b39-4d48730b4536\":{\"version\":\"3.4.1\",\"title\":\"Bokeh Application\",\"roots\":[{\"type\":\"object\",\"name\":\"Figure\",\"id\":\"p1849\",\"attributes\":{\"x_range\":{\"type\":\"object\",\"name\":\"Range1d\",\"id\":\"p1859\",\"attributes\":{\"end\":100}},\"y_range\":{\"type\":\"object\",\"name\":\"Range1d\",\"id\":\"p1860\",\"attributes\":{\"end\":100}},\"x_scale\":{\"type\":\"object\",\"name\":\"LinearScale\",\"id\":\"p1861\"},\"y_scale\":{\"type\":\"object\",\"name\":\"LinearScale\",\"id\":\"p1862\"},\"title\":{\"type\":\"object\",\"name\":\"Title\",\"id\":\"p1852\",\"attributes\":{\"text\":\"Optimal TSP tour on 30 cities, length=523.367510\",\"text_color\":\"#E0E0E0\",\"text_font\":\"Helvetica\",\"text_font_size\":\"1.15em\"}},\"outline_line_color\":\"#E0E0E0\",\"outline_line_alpha\":0.25,\"renderers\":[{\"type\":\"object\",\"name\":\"GlyphRenderer\",\"id\":\"p1890\",\"attributes\":{\"data_source\":{\"type\":\"object\",\"name\":\"ColumnDataSource\",\"id\":\"p1884\",\"attributes\":{\"selected\":{\"type\":\"object\",\"name\":\"Selection\",\"id\":\"p1885\",\"attributes\":{\"indices\":[],\"line_indices\":[]}},\"selection_policy\":{\"type\":\"object\",\"name\":\"UnionRenderers\",\"id\":\"p1886\"},\"data\":{\"type\":\"map\",\"entries\":[[\"x\",[17,97,32,63,57,83,100,12,3,55,97,0,57,92,75,40,2,83,1,87,54,3,28,56,70,44,86,97,37,53]],[\"y\",[72,8,15,97,60,48,26,62,49,77,98,89,34,29,13,3,3,69,48,27,92,67,97,63,29,29,28,58,2,71]]]}}},\"view\":{\"type\":\"object\",\"name\":\"CDSView\",\"id\":\"p1891\",\"attributes\":{\"filter\":{\"type\":\"object\",\"name\":\"AllIndices\",\"id\":\"p1892\"}}},\"glyph\":{\"type\":\"object\",\"name\":\"Scatter\",\"id\":\"p1887\",\"attributes\":{\"x\":{\"type\":\"field\",\"field\":\"x\"},\"y\":{\"type\":\"field\",\"field\":\"y\"},\"size\":{\"type\":\"value\",\"value\":8},\"line_color\":{\"type\":\"value\",\"value\":\"#1f77b4\"},\"fill_color\":{\"type\":\"value\",\"value\":\"#1f77b4\"}}},\"nonselection_glyph\":{\"type\":\"object\",\"name\":\"Scatter\",\"id\":\"p1888\",\"attributes\":{\"x\":{\"type\":\"field\",\"field\":\"x\"},\"y\":{\"type\":\"field\",\"field\":\"y\"},\"size\":{\"type\":\"value\",\"value\":8},\"line_color\":{\"type\":\"value\",\"value\":\"#1f77b4\"},\"line_alpha\":{\"type\":\"value\",\"value\":0.1},\"fill_color\":{\"type\":\"value\",\"value\":\"#1f77b4\"},\"fill_alpha\":{\"type\":\"value\",\"value\":0.1},\"hatch_alpha\":{\"type\":\"value\",\"value\":0.1}}},\"muted_glyph\":{\"type\":\"object\",\"name\":\"Scatter\",\"id\":\"p1889\",\"attributes\":{\"x\":{\"type\":\"field\",\"field\":\"x\"},\"y\":{\"type\":\"field\",\"field\":\"y\"},\"size\":{\"type\":\"value\",\"value\":8},\"line_color\":{\"type\":\"value\",\"value\":\"#1f77b4\"},\"line_alpha\":{\"type\":\"value\",\"value\":0.2},\"fill_color\":{\"type\":\"value\",\"value\":\"#1f77b4\"},\"fill_alpha\":{\"type\":\"value\",\"value\":0.2},\"hatch_alpha\":{\"type\":\"value\",\"value\":0.2}}}}},{\"type\":\"object\",\"name\":\"GlyphRenderer\",\"id\":\"p1899\",\"attributes\":{\"data_source\":{\"type\":\"object\",\"name\":\"ColumnDataSource\",\"id\":\"p1893\",\"attributes\":{\"selected\":{\"type\":\"object\",\"name\":\"Selection\",\"id\":\"p1894\",\"attributes\":{\"indices\":[],\"line_indices\":[]}},\"selection_policy\":{\"type\":\"object\",\"name\":\"UnionRenderers\",\"id\":\"p1895\"},\"data\":{\"type\":\"map\",\"entries\":[[\"x\",[100,97,75,70,57,44,32,40,37,2,1,3,3,12,17,0,28,53,56,57,55,54,63,97,83,97,83,86,87,92,100]],[\"y\",[26,8,13,29,34,29,15,3,2,3,48,49,67,62,72,89,97,71,63,60,77,92,97,98,69,58,48,28,27,29,26]]]}}},\"view\":{\"type\":\"object\",\"name\":\"CDSView\",\"id\":\"p1900\",\"attributes\":{\"filter\":{\"type\":\"object\",\"name\":\"AllIndices\",\"id\":\"p1901\"}}},\"glyph\":{\"type\":\"object\",\"name\":\"Line\",\"id\":\"p1896\",\"attributes\":{\"x\":{\"type\":\"field\",\"field\":\"x\"},\"y\":{\"type\":\"field\",\"field\":\"y\"},\"line_color\":\"#1f77b4\"}},\"nonselection_glyph\":{\"type\":\"object\",\"name\":\"Line\",\"id\":\"p1897\",\"attributes\":{\"x\":{\"type\":\"field\",\"field\":\"x\"},\"y\":{\"type\":\"field\",\"field\":\"y\"},\"line_color\":\"#1f77b4\",\"line_alpha\":0.1}},\"muted_glyph\":{\"type\":\"object\",\"name\":\"Line\",\"id\":\"p1898\",\"attributes\":{\"x\":{\"type\":\"field\",\"field\":\"x\"},\"y\":{\"type\":\"field\",\"field\":\"y\"},\"line_color\":\"#1f77b4\",\"line_alpha\":0.2}}}}],\"toolbar\":{\"type\":\"object\",\"name\":\"Toolbar\",\"id\":\"p1858\",\"attributes\":{\"tools\":[{\"type\":\"object\",\"name\":\"PanTool\",\"id\":\"p1873\"},{\"type\":\"object\",\"name\":\"WheelZoomTool\",\"id\":\"p1874\",\"attributes\":{\"renderers\":\"auto\"}},{\"type\":\"object\",\"name\":\"BoxZoomTool\",\"id\":\"p1875\",\"attributes\":{\"overlay\":{\"type\":\"object\",\"name\":\"BoxAnnotation\",\"id\":\"p1876\",\"attributes\":{\"syncable\":false,\"level\":\"overlay\",\"visible\":false,\"left\":{\"type\":\"number\",\"value\":\"nan\"},\"right\":{\"type\":\"number\",\"value\":\"nan\"},\"top\":{\"type\":\"number\",\"value\":\"nan\"},\"bottom\":{\"type\":\"number\",\"value\":\"nan\"},\"left_units\":\"canvas\",\"right_units\":\"canvas\",\"top_units\":\"canvas\",\"bottom_units\":\"canvas\",\"line_color\":\"black\",\"line_alpha\":1.0,\"line_width\":2,\"line_dash\":[4,4],\"fill_color\":\"lightgrey\",\"fill_alpha\":0.5}}}},{\"type\":\"object\",\"name\":\"SaveTool\",\"id\":\"p1881\"},{\"type\":\"object\",\"name\":\"ResetTool\",\"id\":\"p1882\"},{\"type\":\"object\",\"name\":\"HelpTool\",\"id\":\"p1883\"}]}},\"left\":[{\"type\":\"object\",\"name\":\"LinearAxis\",\"id\":\"p1868\",\"attributes\":{\"ticker\":{\"type\":\"object\",\"name\":\"BasicTicker\",\"id\":\"p1869\",\"attributes\":{\"mantissas\":[1,2,5]}},\"formatter\":{\"type\":\"object\",\"name\":\"BasicTickFormatter\",\"id\":\"p1870\"},\"axis_label_standoff\":10,\"axis_label_text_color\":\"#E0E0E0\",\"axis_label_text_font\":\"Helvetica\",\"axis_label_text_font_size\":\"1.25em\",\"axis_label_text_font_style\":\"normal\",\"major_label_policy\":{\"type\":\"object\",\"name\":\"AllLabels\",\"id\":\"p1871\"},\"major_label_text_color\":\"#E0E0E0\",\"major_label_text_font\":\"Helvetica\",\"major_label_text_font_size\":\"1.025em\",\"axis_line_color\":\"#E0E0E0\",\"axis_line_alpha\":0,\"major_tick_line_color\":\"#E0E0E0\",\"major_tick_line_alpha\":0,\"minor_tick_line_color\":\"#E0E0E0\",\"minor_tick_line_alpha\":0}}],\"below\":[{\"type\":\"object\",\"name\":\"LinearAxis\",\"id\":\"p1863\",\"attributes\":{\"ticker\":{\"type\":\"object\",\"name\":\"BasicTicker\",\"id\":\"p1864\",\"attributes\":{\"mantissas\":[1,2,5]}},\"formatter\":{\"type\":\"object\",\"name\":\"BasicTickFormatter\",\"id\":\"p1865\"},\"axis_label_standoff\":10,\"axis_label_text_color\":\"#E0E0E0\",\"axis_label_text_font\":\"Helvetica\",\"axis_label_text_font_size\":\"1.25em\",\"axis_label_text_font_style\":\"normal\",\"major_label_policy\":{\"type\":\"object\",\"name\":\"AllLabels\",\"id\":\"p1866\"},\"major_label_text_color\":\"#E0E0E0\",\"major_label_text_font\":\"Helvetica\",\"major_label_text_font_size\":\"1.025em\",\"axis_line_color\":\"#E0E0E0\",\"axis_line_alpha\":0,\"major_tick_line_color\":\"#E0E0E0\",\"major_tick_line_alpha\":0,\"minor_tick_line_color\":\"#E0E0E0\",\"minor_tick_line_alpha\":0}}],\"center\":[{\"type\":\"object\",\"name\":\"Grid\",\"id\":\"p1867\",\"attributes\":{\"axis\":{\"id\":\"p1863\"},\"grid_line_color\":\"#E0E0E0\",\"grid_line_alpha\":0.25}},{\"type\":\"object\",\"name\":\"Grid\",\"id\":\"p1872\",\"attributes\":{\"dimension\":1,\"axis\":{\"id\":\"p1868\"},\"grid_line_color\":\"#E0E0E0\",\"grid_line_alpha\":0.25}}],\"background_fill_color\":\"#20262B\",\"border_fill_color\":\"#15191C\"}}]}};\n  const render_items = [{\"docid\":\"5c2bff65-a7d1-4e79-8b39-4d48730b4536\",\"roots\":{\"p1849\":\"bcfb9073-3c68-4661-a17d-2dea64879abe\"},\"root_ids\":[\"p1849\"]}];\n  void root.Bokeh.embed.embed_items_notebook(docs_json, render_items);\n  }\n  if (root.Bokeh !== undefined) {\n    embed_document(root);\n  } else {\n    let attempts = 0;\n    const timer = setInterval(function(root) {\n      if (root.Bokeh !== undefined) {\n        clearInterval(timer);\n        embed_document(root);\n      } else {\n        attempts++;\n        if (attempts > 100) {\n          clearInterval(timer);\n          console.log(\"Bokeh: ERROR: Unable to run BokehJS code because BokehJS library is missing\");\n        }\n      }\n    }, 10, root)\n  }\n})(window);",
      "application/vnd.bokehjs_exec.v0+json": ""
     },
     "metadata": {
      "application/vnd.bokehjs_exec.v0+json": {
       "id": "p1849"
      }
     },
     "output_type": "display_data"
    },
    {
     "name": "stdout",
     "output_type": "stream",
     "text": [
      "\n"
     ]
    }
   ],
   "execution_count": 47
  },
  {
   "cell_type": "markdown",
   "id": "0303e5d6",
   "metadata": {
    "slideshow": {
     "slide_type": "slide"
    }
   },
   "source": [
    "## Try greedy heuristic\n",
    "- While solving the MIP, call the greedy heuristic using the _fractional values from the LP relaxation_\n",
    "- The motivation is that these fractional values should guide towards a good solution\n",
    "- When values are all zero (like crossing between subtours), pick the edge with the shortest length."
   ]
  },
  {
   "cell_type": "markdown",
   "id": "c04c0a68-a2e0-4946-9e39-0c74d5a3b275",
   "metadata": {
    "slideshow": {
     "slide_type": "slide"
    }
   },
   "source": [
    "### Callback for greedy heuristic"
   ]
  },
  {
   "cell_type": "code",
   "id": "0f1b0933-6fd4-44fb-aa32-58beb2f3541e",
   "metadata": {
    "slideshow": {
     "slide_type": "subslide"
    },
    "ExecuteTime": {
     "end_time": "2024-07-13T09:10:02.617953Z",
     "start_time": "2024-07-13T09:10:02.602311Z"
    }
   },
   "source": [
    "def greedycb(model, where):\n",
    "    if where == GRB.Callback.MIPNODE:\n",
    "        if model.cbGet(GRB.Callback.MIPNODE_STATUS) == GRB.OPTIMAL:\n",
    "            x = model.cbGetNodeRel(model._vars)\n",
    "            for k in x:\n",
    "                if x[k] < 0.001:\n",
    "                    x[k] = -model._dist[k]\n",
    "            pt = pytsp(model._n, model._dist)\n",
    "            model._tours.append(pt.greedy(dist=x, sense=-1)) # maximize using the x values"
   ],
   "outputs": [],
   "execution_count": 48
  },
  {
   "cell_type": "markdown",
   "id": "b0590b17-50e2-4e19-b517-8f9092685954",
   "metadata": {
    "slideshow": {
     "slide_type": "slide"
    }
   },
   "source": [
    "### Solve the TSP with the greedy heuristic"
   ]
  },
  {
   "cell_type": "code",
   "id": "375833cc-e574-45ed-91f7-a7346ec2ee69",
   "metadata": {
    "slideshow": {
     "slide_type": "subslide"
    },
    "tags": [],
    "ExecuteTime": {
     "end_time": "2024-07-13T09:10:07.007354Z",
     "start_time": "2024-07-13T09:10:06.793855Z"
    }
   },
   "source": [
    "m = tspmip(n, dist)\n",
    "m.optimize(tspcb(greedycb))\n",
    "checksol(m, time.time())\n",
    "addruntimes(runtimes, 'greedy', m)"
   ],
   "outputs": [
    {
     "name": "stdout",
     "output_type": "stream",
     "text": [
      "Set parameter LazyConstraints to value 1\n",
      "Set parameter MIPGap to value 0\n",
      "Set parameter TimeLimit to value 60\n",
      "Set parameter MIPGapAbs to value 6.5069645583264446e-03\n",
      "Gurobi Optimizer version 11.0.1 build v11.0.1rc0 (win64 - Windows 11.0 (22631.2))\n",
      "\n",
      "CPU model: Intel(R) Core(TM) Ultra 5 125H, instruction set [SSE2|AVX|AVX2]\n",
      "Thread count: 14 physical cores, 18 logical processors, using up to 18 threads\n",
      "\n",
      "Optimize a model with 30 rows, 435 columns and 870 nonzeros\n",
      "Model fingerprint: 0x4841669a\n",
      "Variable types: 0 continuous, 435 integer (435 binary)\n",
      "Coefficient statistics:\n",
      "  Matrix range     [1e+00, 1e+00]\n",
      "  Objective range  [1e+00, 1e+02]\n",
      "  Bounds range     [1e+00, 1e+00]\n",
      "  RHS range        [2e+00, 2e+00]\n",
      "MIPSOL 2675\n",
      "MIPSOL2 2675\n",
      "Presolve time: 0.01s\n",
      "Presolved: 30 rows, 435 columns, 870 nonzeros\n",
      "Variable types: 0 continuous, 435 integer (435 binary)\n",
      "MIPSOL 2744\n",
      "MIPSOL2 2744\n",
      "\n",
      "Root relaxation: objective 5.008619e+02, 40 iterations, 0.00 seconds (0.00 work units)\n",
      "\n",
      "    Nodes    |    Current Node    |     Objective Bounds      |     Work\n",
      " Expl Unexpl |  Obj  Depth IntInf | Incumbent    BestBd   Gap | It/Node Time\n",
      "\n",
      "     0     0  500.86193    0    6          -  500.86193      -     -    0s\n",
      "MIPSOL 2754\n",
      "MIPSOL2 2754\n",
      "MIPSOL 2755\n",
      "MIPSOL2 2755\n",
      "MIPSOL 2756\n",
      "MIPSOL2 2756\n",
      "H    0     0                     525.4722414  500.86193  4.68%     -    0s\n",
      "MIPSOL 2758\n",
      "MIPSOL2 2758\n",
      "H    0     0                     523.3675097  500.86193  4.30%     -    0s\n",
      "MIPNODE1 2761\n",
      "MIPNODE2 2761\n",
      "     0     0  506.67260    0    6  523.36751  506.67260  3.19%     -    0s\n",
      "MIPNODE1 2767\n",
      "MIPNODE2 2767\n",
      "     0     0  506.67260    0    6  523.36751  506.67260  3.19%     -    0s\n",
      "MIPNODE1 2897\n",
      "MIPNODE2 2897\n",
      "MIPSOL 2900\n",
      "MIPSOL2 2900\n",
      "     0     0  511.07741    0    -  523.36751  511.07741  2.35%     -    0s\n",
      "     0     0  513.27964    0    6  523.36751  513.27964  1.93%     -    0s\n",
      "MIPNODE1 2908\n",
      "MIPNODE2 2908\n",
      "     0     0  519.87895    0   11  523.36751  519.87895  0.67%     -    0s\n",
      "MIPNODE1 2917\n",
      "MIPNODE2 2917\n",
      "     0     0  519.87895    0    6  523.36751  519.87895  0.67%     -    0s\n",
      "MIPNODE1 3100\n",
      "MIPNODE2 3100\n",
      "     0     0     cutoff    0       523.36751  523.36751  0.00%     -    0s\n",
      "\n",
      "Cutting planes:\n",
      "  Gomory: 5\n",
      "  Zero half: 2\n",
      "\n",
      "Explored 1 nodes (164 simplex iterations) in 0.06 seconds (0.01 work units)\n",
      "Thread count was 18 (of 18 available processors)\n",
      "\n",
      "Solution count 2: 523.368 525.472 \n",
      "\n",
      "Optimal solution found (tolerance 0.00e+00)\n",
      "Best objective 5.233675096913e+02, best bound 5.233675096913e+02, gap 0.0000%\n",
      "\n",
      "User-callback calls 144, time in user-callback 0.00 sec\n",
      "\n",
      "Optimal TSP tour: [6, 1, 14, 24, 12, 25, 2, 15, 28, 16, 18, 8, 21, 7, 0, 11, 22, 29, 23, 4, 9, 20, 3, 10, 17, 27, 5, 26, 19, 13]\n",
      "------------------------------------------\n",
      "------------------------------------------\n",
      "Cost: 523.3675096912949 runtime : 0.0\n"
     ]
    },
    {
     "name": "stderr",
     "output_type": "stream",
     "text": [
      "BokehDeprecationWarning: 'circle() method with size value' was deprecated in Bokeh 3.4.0 and will be removed, use 'scatter(size=...) instead' instead.\n"
     ]
    },
    {
     "data": {
      "text/html": [
       "\n",
       "  <div id=\"e4adc86d-1408-4475-9677-a83ce07ce96d\" data-root-id=\"p1902\" style=\"display: contents;\"></div>\n"
      ]
     },
     "metadata": {},
     "output_type": "display_data"
    },
    {
     "data": {
      "application/javascript": "(function(root) {\n  function embed_document(root) {\n  const docs_json = {\"d1fb9c4a-1587-4967-b3b7-b39daa4980df\":{\"version\":\"3.4.1\",\"title\":\"Bokeh Application\",\"roots\":[{\"type\":\"object\",\"name\":\"Figure\",\"id\":\"p1902\",\"attributes\":{\"x_range\":{\"type\":\"object\",\"name\":\"Range1d\",\"id\":\"p1912\",\"attributes\":{\"end\":100}},\"y_range\":{\"type\":\"object\",\"name\":\"Range1d\",\"id\":\"p1913\",\"attributes\":{\"end\":100}},\"x_scale\":{\"type\":\"object\",\"name\":\"LinearScale\",\"id\":\"p1914\"},\"y_scale\":{\"type\":\"object\",\"name\":\"LinearScale\",\"id\":\"p1915\"},\"title\":{\"type\":\"object\",\"name\":\"Title\",\"id\":\"p1905\",\"attributes\":{\"text\":\"Optimal TSP tour on 30 cities, length=523.367510\",\"text_color\":\"#E0E0E0\",\"text_font\":\"Helvetica\",\"text_font_size\":\"1.15em\"}},\"outline_line_color\":\"#E0E0E0\",\"outline_line_alpha\":0.25,\"renderers\":[{\"type\":\"object\",\"name\":\"GlyphRenderer\",\"id\":\"p1943\",\"attributes\":{\"data_source\":{\"type\":\"object\",\"name\":\"ColumnDataSource\",\"id\":\"p1937\",\"attributes\":{\"selected\":{\"type\":\"object\",\"name\":\"Selection\",\"id\":\"p1938\",\"attributes\":{\"indices\":[],\"line_indices\":[]}},\"selection_policy\":{\"type\":\"object\",\"name\":\"UnionRenderers\",\"id\":\"p1939\"},\"data\":{\"type\":\"map\",\"entries\":[[\"x\",[17,97,32,63,57,83,100,12,3,55,97,0,57,92,75,40,2,83,1,87,54,3,28,56,70,44,86,97,37,53]],[\"y\",[72,8,15,97,60,48,26,62,49,77,98,89,34,29,13,3,3,69,48,27,92,67,97,63,29,29,28,58,2,71]]]}}},\"view\":{\"type\":\"object\",\"name\":\"CDSView\",\"id\":\"p1944\",\"attributes\":{\"filter\":{\"type\":\"object\",\"name\":\"AllIndices\",\"id\":\"p1945\"}}},\"glyph\":{\"type\":\"object\",\"name\":\"Scatter\",\"id\":\"p1940\",\"attributes\":{\"x\":{\"type\":\"field\",\"field\":\"x\"},\"y\":{\"type\":\"field\",\"field\":\"y\"},\"size\":{\"type\":\"value\",\"value\":8},\"line_color\":{\"type\":\"value\",\"value\":\"#1f77b4\"},\"fill_color\":{\"type\":\"value\",\"value\":\"#1f77b4\"}}},\"nonselection_glyph\":{\"type\":\"object\",\"name\":\"Scatter\",\"id\":\"p1941\",\"attributes\":{\"x\":{\"type\":\"field\",\"field\":\"x\"},\"y\":{\"type\":\"field\",\"field\":\"y\"},\"size\":{\"type\":\"value\",\"value\":8},\"line_color\":{\"type\":\"value\",\"value\":\"#1f77b4\"},\"line_alpha\":{\"type\":\"value\",\"value\":0.1},\"fill_color\":{\"type\":\"value\",\"value\":\"#1f77b4\"},\"fill_alpha\":{\"type\":\"value\",\"value\":0.1},\"hatch_alpha\":{\"type\":\"value\",\"value\":0.1}}},\"muted_glyph\":{\"type\":\"object\",\"name\":\"Scatter\",\"id\":\"p1942\",\"attributes\":{\"x\":{\"type\":\"field\",\"field\":\"x\"},\"y\":{\"type\":\"field\",\"field\":\"y\"},\"size\":{\"type\":\"value\",\"value\":8},\"line_color\":{\"type\":\"value\",\"value\":\"#1f77b4\"},\"line_alpha\":{\"type\":\"value\",\"value\":0.2},\"fill_color\":{\"type\":\"value\",\"value\":\"#1f77b4\"},\"fill_alpha\":{\"type\":\"value\",\"value\":0.2},\"hatch_alpha\":{\"type\":\"value\",\"value\":0.2}}}}},{\"type\":\"object\",\"name\":\"GlyphRenderer\",\"id\":\"p1952\",\"attributes\":{\"data_source\":{\"type\":\"object\",\"name\":\"ColumnDataSource\",\"id\":\"p1946\",\"attributes\":{\"selected\":{\"type\":\"object\",\"name\":\"Selection\",\"id\":\"p1947\",\"attributes\":{\"indices\":[],\"line_indices\":[]}},\"selection_policy\":{\"type\":\"object\",\"name\":\"UnionRenderers\",\"id\":\"p1948\"},\"data\":{\"type\":\"map\",\"entries\":[[\"x\",[100,97,75,70,57,44,32,40,37,2,1,3,3,12,17,0,28,53,56,57,55,54,63,97,83,97,83,86,87,92,100]],[\"y\",[26,8,13,29,34,29,15,3,2,3,48,49,67,62,72,89,97,71,63,60,77,92,97,98,69,58,48,28,27,29,26]]]}}},\"view\":{\"type\":\"object\",\"name\":\"CDSView\",\"id\":\"p1953\",\"attributes\":{\"filter\":{\"type\":\"object\",\"name\":\"AllIndices\",\"id\":\"p1954\"}}},\"glyph\":{\"type\":\"object\",\"name\":\"Line\",\"id\":\"p1949\",\"attributes\":{\"x\":{\"type\":\"field\",\"field\":\"x\"},\"y\":{\"type\":\"field\",\"field\":\"y\"},\"line_color\":\"#1f77b4\"}},\"nonselection_glyph\":{\"type\":\"object\",\"name\":\"Line\",\"id\":\"p1950\",\"attributes\":{\"x\":{\"type\":\"field\",\"field\":\"x\"},\"y\":{\"type\":\"field\",\"field\":\"y\"},\"line_color\":\"#1f77b4\",\"line_alpha\":0.1}},\"muted_glyph\":{\"type\":\"object\",\"name\":\"Line\",\"id\":\"p1951\",\"attributes\":{\"x\":{\"type\":\"field\",\"field\":\"x\"},\"y\":{\"type\":\"field\",\"field\":\"y\"},\"line_color\":\"#1f77b4\",\"line_alpha\":0.2}}}}],\"toolbar\":{\"type\":\"object\",\"name\":\"Toolbar\",\"id\":\"p1911\",\"attributes\":{\"tools\":[{\"type\":\"object\",\"name\":\"PanTool\",\"id\":\"p1926\"},{\"type\":\"object\",\"name\":\"WheelZoomTool\",\"id\":\"p1927\",\"attributes\":{\"renderers\":\"auto\"}},{\"type\":\"object\",\"name\":\"BoxZoomTool\",\"id\":\"p1928\",\"attributes\":{\"overlay\":{\"type\":\"object\",\"name\":\"BoxAnnotation\",\"id\":\"p1929\",\"attributes\":{\"syncable\":false,\"level\":\"overlay\",\"visible\":false,\"left\":{\"type\":\"number\",\"value\":\"nan\"},\"right\":{\"type\":\"number\",\"value\":\"nan\"},\"top\":{\"type\":\"number\",\"value\":\"nan\"},\"bottom\":{\"type\":\"number\",\"value\":\"nan\"},\"left_units\":\"canvas\",\"right_units\":\"canvas\",\"top_units\":\"canvas\",\"bottom_units\":\"canvas\",\"line_color\":\"black\",\"line_alpha\":1.0,\"line_width\":2,\"line_dash\":[4,4],\"fill_color\":\"lightgrey\",\"fill_alpha\":0.5}}}},{\"type\":\"object\",\"name\":\"SaveTool\",\"id\":\"p1934\"},{\"type\":\"object\",\"name\":\"ResetTool\",\"id\":\"p1935\"},{\"type\":\"object\",\"name\":\"HelpTool\",\"id\":\"p1936\"}]}},\"left\":[{\"type\":\"object\",\"name\":\"LinearAxis\",\"id\":\"p1921\",\"attributes\":{\"ticker\":{\"type\":\"object\",\"name\":\"BasicTicker\",\"id\":\"p1922\",\"attributes\":{\"mantissas\":[1,2,5]}},\"formatter\":{\"type\":\"object\",\"name\":\"BasicTickFormatter\",\"id\":\"p1923\"},\"axis_label_standoff\":10,\"axis_label_text_color\":\"#E0E0E0\",\"axis_label_text_font\":\"Helvetica\",\"axis_label_text_font_size\":\"1.25em\",\"axis_label_text_font_style\":\"normal\",\"major_label_policy\":{\"type\":\"object\",\"name\":\"AllLabels\",\"id\":\"p1924\"},\"major_label_text_color\":\"#E0E0E0\",\"major_label_text_font\":\"Helvetica\",\"major_label_text_font_size\":\"1.025em\",\"axis_line_color\":\"#E0E0E0\",\"axis_line_alpha\":0,\"major_tick_line_color\":\"#E0E0E0\",\"major_tick_line_alpha\":0,\"minor_tick_line_color\":\"#E0E0E0\",\"minor_tick_line_alpha\":0}}],\"below\":[{\"type\":\"object\",\"name\":\"LinearAxis\",\"id\":\"p1916\",\"attributes\":{\"ticker\":{\"type\":\"object\",\"name\":\"BasicTicker\",\"id\":\"p1917\",\"attributes\":{\"mantissas\":[1,2,5]}},\"formatter\":{\"type\":\"object\",\"name\":\"BasicTickFormatter\",\"id\":\"p1918\"},\"axis_label_standoff\":10,\"axis_label_text_color\":\"#E0E0E0\",\"axis_label_text_font\":\"Helvetica\",\"axis_label_text_font_size\":\"1.25em\",\"axis_label_text_font_style\":\"normal\",\"major_label_policy\":{\"type\":\"object\",\"name\":\"AllLabels\",\"id\":\"p1919\"},\"major_label_text_color\":\"#E0E0E0\",\"major_label_text_font\":\"Helvetica\",\"major_label_text_font_size\":\"1.025em\",\"axis_line_color\":\"#E0E0E0\",\"axis_line_alpha\":0,\"major_tick_line_color\":\"#E0E0E0\",\"major_tick_line_alpha\":0,\"minor_tick_line_color\":\"#E0E0E0\",\"minor_tick_line_alpha\":0}}],\"center\":[{\"type\":\"object\",\"name\":\"Grid\",\"id\":\"p1920\",\"attributes\":{\"axis\":{\"id\":\"p1916\"},\"grid_line_color\":\"#E0E0E0\",\"grid_line_alpha\":0.25}},{\"type\":\"object\",\"name\":\"Grid\",\"id\":\"p1925\",\"attributes\":{\"dimension\":1,\"axis\":{\"id\":\"p1921\"},\"grid_line_color\":\"#E0E0E0\",\"grid_line_alpha\":0.25}}],\"background_fill_color\":\"#20262B\",\"border_fill_color\":\"#15191C\"}}]}};\n  const render_items = [{\"docid\":\"d1fb9c4a-1587-4967-b3b7-b39daa4980df\",\"roots\":{\"p1902\":\"e4adc86d-1408-4475-9677-a83ce07ce96d\"},\"root_ids\":[\"p1902\"]}];\n  void root.Bokeh.embed.embed_items_notebook(docs_json, render_items);\n  }\n  if (root.Bokeh !== undefined) {\n    embed_document(root);\n  } else {\n    let attempts = 0;\n    const timer = setInterval(function(root) {\n      if (root.Bokeh !== undefined) {\n        clearInterval(timer);\n        embed_document(root);\n      } else {\n        attempts++;\n        if (attempts > 100) {\n          clearInterval(timer);\n          console.log(\"Bokeh: ERROR: Unable to run BokehJS code because BokehJS library is missing\");\n        }\n      }\n    }, 10, root)\n  }\n})(window);",
      "application/vnd.bokehjs_exec.v0+json": ""
     },
     "metadata": {
      "application/vnd.bokehjs_exec.v0+json": {
       "id": "p1902"
      }
     },
     "output_type": "display_data"
    },
    {
     "name": "stdout",
     "output_type": "stream",
     "text": [
      "\n"
     ]
    }
   ],
   "execution_count": 49
  },
  {
   "cell_type": "markdown",
   "id": "a543ed1b",
   "metadata": {
    "slideshow": {
     "slide_type": "slide"
    }
   },
   "source": [
    "## Try patch heuristic\n",
    "When an integer solution contains subtours, call the patching heuristic to create a tour, and try that as a heuristic solution."
   ]
  },
  {
   "cell_type": "markdown",
   "id": "b4923b7c-0dd4-4b71-b3db-c298252b61f1",
   "metadata": {
    "slideshow": {
     "slide_type": "slide"
    }
   },
   "source": [
    "### Callback for patch heuristic"
   ]
  },
  {
   "cell_type": "code",
   "id": "b4e5726d-da2f-42a1-8640-c0c93f454d8a",
   "metadata": {
    "slideshow": {
     "slide_type": "subslide"
    },
    "ExecuteTime": {
     "end_time": "2024-07-13T09:10:26.036221Z",
     "start_time": "2024-07-13T09:10:26.020595Z"
    }
   },
   "source": [
    "def patchcb(model, where):\n",
    "    if where == GRB.Callback.MIPSOL:\n",
    "        pt = pytsp(model._n, model._dist)\n",
    "        for subtour in model._subtours:\n",
    "            model._tours.append(pt.patch(subtour))"
   ],
   "outputs": [],
   "execution_count": 51
  },
  {
   "cell_type": "markdown",
   "id": "728444fb-bf05-4fb9-80a8-12288730754d",
   "metadata": {
    "slideshow": {
     "slide_type": "slide"
    }
   },
   "source": [
    "### Solve the TSP with the patch heuristic"
   ]
  },
  {
   "cell_type": "code",
   "id": "4e731e27-3777-49b3-ac20-464c576d1b8c",
   "metadata": {
    "slideshow": {
     "slide_type": "subslide"
    },
    "tags": [],
    "ExecuteTime": {
     "end_time": "2024-07-13T09:10:28.252786Z",
     "start_time": "2024-07-13T09:10:28.064445Z"
    }
   },
   "source": [
    "m = tspmip(n, dist)\n",
    "m.optimize(tspcb(patchcb))\n",
    "checksol(m, time.time())\n",
    "addruntimes(runtimes, 'patch', m)"
   ],
   "outputs": [
    {
     "name": "stdout",
     "output_type": "stream",
     "text": [
      "Set parameter LazyConstraints to value 1\n",
      "Set parameter MIPGap to value 0\n",
      "Set parameter TimeLimit to value 60\n",
      "Set parameter MIPGapAbs to value 6.5069645583264446e-03\n",
      "Gurobi Optimizer version 11.0.1 build v11.0.1rc0 (win64 - Windows 11.0 (22631.2))\n",
      "\n",
      "CPU model: Intel(R) Core(TM) Ultra 5 125H, instruction set [SSE2|AVX|AVX2]\n",
      "Thread count: 14 physical cores, 18 logical processors, using up to 18 threads\n",
      "\n",
      "Optimize a model with 30 rows, 435 columns and 870 nonzeros\n",
      "Model fingerprint: 0x4841669a\n",
      "Variable types: 0 continuous, 435 integer (435 binary)\n",
      "Coefficient statistics:\n",
      "  Matrix range     [1e+00, 1e+00]\n",
      "  Objective range  [1e+00, 1e+02]\n",
      "  Bounds range     [1e+00, 1e+00]\n",
      "  RHS range        [2e+00, 2e+00]\n",
      "MIPSOL 3132\n",
      "MIPSOL2 3132\n",
      "Presolve time: 0.00s\n",
      "Presolved: 30 rows, 435 columns, 870 nonzeros\n",
      "Variable types: 0 continuous, 435 integer (435 binary)\n",
      "MIPSOL 3201\n",
      "MIPSOL2 3201\n",
      "\n",
      "Root relaxation: objective 5.008619e+02, 40 iterations, 0.00 seconds (0.00 work units)\n",
      "\n",
      "    Nodes    |    Current Node    |     Objective Bounds      |     Work\n",
      " Expl Unexpl |  Obj  Depth IntInf | Incumbent    BestBd   Gap | It/Node Time\n",
      "\n",
      "     0     0  500.86193    0    6          -  500.86193      -     -    0s\n",
      "MIPSOL 3211\n",
      "MIPSOL2 3211\n",
      "MIPSOL 3212\n",
      "MIPSOL2 3212\n",
      "MIPSOL 3214\n",
      "MIPSOL2 3214\n",
      "H    0     0                     525.4722414  500.86193  4.68%     -    0s\n",
      "MIPSOL 3216\n",
      "MIPSOL2 3216\n",
      "H    0     0                     523.3675097  500.86193  4.30%     -    0s\n",
      "MIPNODE1 3219\n",
      "MIPNODE2 3219\n",
      "     0     0  506.67260    0    6  523.36751  506.67260  3.19%     -    0s\n",
      "MIPNODE1 3225\n",
      "MIPNODE2 3225\n",
      "     0     0  506.67260    0    6  523.36751  506.67260  3.19%     -    0s\n",
      "MIPNODE1 3355\n",
      "MIPNODE2 3355\n",
      "MIPSOL 3358\n",
      "MIPSOL2 3358\n",
      "     0     0  511.07741    0    -  523.36751  511.07741  2.35%     -    0s\n",
      "     0     0  513.27964    0    6  523.36751  513.27964  1.93%     -    0s\n",
      "MIPNODE1 3367\n",
      "MIPNODE2 3367\n",
      "     0     0  519.87895    0   11  523.36751  519.87895  0.67%     -    0s\n",
      "MIPNODE1 3375\n",
      "MIPNODE2 3375\n",
      "     0     0  519.87895    0    6  523.36751  519.87895  0.67%     -    0s\n",
      "MIPNODE1 3558\n",
      "MIPNODE2 3558\n",
      "     0     0     cutoff    0       523.36751  523.36751  0.00%     -    0s\n",
      "\n",
      "Cutting planes:\n",
      "  Gomory: 5\n",
      "  Zero half: 2\n",
      "\n",
      "Explored 1 nodes (164 simplex iterations) in 0.05 seconds (0.01 work units)\n",
      "Thread count was 18 (of 18 available processors)\n",
      "\n",
      "Solution count 2: 523.368 525.472 \n",
      "\n",
      "Optimal solution found (tolerance 0.00e+00)\n",
      "Best objective 5.233675096913e+02, best bound 5.233675096913e+02, gap 0.0000%\n",
      "\n",
      "User-callback calls 145, time in user-callback 0.00 sec\n",
      "\n",
      "Optimal TSP tour: [6, 1, 14, 24, 12, 25, 2, 15, 28, 16, 18, 8, 21, 7, 0, 11, 22, 29, 23, 4, 9, 20, 3, 10, 17, 27, 5, 26, 19, 13]\n",
      "------------------------------------------\n",
      "------------------------------------------\n",
      "Cost: 523.3675096912949 runtime : 0.0\n"
     ]
    },
    {
     "name": "stderr",
     "output_type": "stream",
     "text": [
      "BokehDeprecationWarning: 'circle() method with size value' was deprecated in Bokeh 3.4.0 and will be removed, use 'scatter(size=...) instead' instead.\n"
     ]
    },
    {
     "data": {
      "text/html": [
       "\n",
       "  <div id=\"a2de26ed-4c04-4ba4-b5a5-8c397f87076b\" data-root-id=\"p1955\" style=\"display: contents;\"></div>\n"
      ]
     },
     "metadata": {},
     "output_type": "display_data"
    },
    {
     "data": {
      "application/javascript": "(function(root) {\n  function embed_document(root) {\n  const docs_json = {\"0a80a1e8-4c91-4848-8c39-8b1e91719808\":{\"version\":\"3.4.1\",\"title\":\"Bokeh Application\",\"roots\":[{\"type\":\"object\",\"name\":\"Figure\",\"id\":\"p1955\",\"attributes\":{\"x_range\":{\"type\":\"object\",\"name\":\"Range1d\",\"id\":\"p1965\",\"attributes\":{\"end\":100}},\"y_range\":{\"type\":\"object\",\"name\":\"Range1d\",\"id\":\"p1966\",\"attributes\":{\"end\":100}},\"x_scale\":{\"type\":\"object\",\"name\":\"LinearScale\",\"id\":\"p1967\"},\"y_scale\":{\"type\":\"object\",\"name\":\"LinearScale\",\"id\":\"p1968\"},\"title\":{\"type\":\"object\",\"name\":\"Title\",\"id\":\"p1958\",\"attributes\":{\"text\":\"Optimal TSP tour on 30 cities, length=523.367510\",\"text_color\":\"#E0E0E0\",\"text_font\":\"Helvetica\",\"text_font_size\":\"1.15em\"}},\"outline_line_color\":\"#E0E0E0\",\"outline_line_alpha\":0.25,\"renderers\":[{\"type\":\"object\",\"name\":\"GlyphRenderer\",\"id\":\"p1996\",\"attributes\":{\"data_source\":{\"type\":\"object\",\"name\":\"ColumnDataSource\",\"id\":\"p1990\",\"attributes\":{\"selected\":{\"type\":\"object\",\"name\":\"Selection\",\"id\":\"p1991\",\"attributes\":{\"indices\":[],\"line_indices\":[]}},\"selection_policy\":{\"type\":\"object\",\"name\":\"UnionRenderers\",\"id\":\"p1992\"},\"data\":{\"type\":\"map\",\"entries\":[[\"x\",[17,97,32,63,57,83,100,12,3,55,97,0,57,92,75,40,2,83,1,87,54,3,28,56,70,44,86,97,37,53]],[\"y\",[72,8,15,97,60,48,26,62,49,77,98,89,34,29,13,3,3,69,48,27,92,67,97,63,29,29,28,58,2,71]]]}}},\"view\":{\"type\":\"object\",\"name\":\"CDSView\",\"id\":\"p1997\",\"attributes\":{\"filter\":{\"type\":\"object\",\"name\":\"AllIndices\",\"id\":\"p1998\"}}},\"glyph\":{\"type\":\"object\",\"name\":\"Scatter\",\"id\":\"p1993\",\"attributes\":{\"x\":{\"type\":\"field\",\"field\":\"x\"},\"y\":{\"type\":\"field\",\"field\":\"y\"},\"size\":{\"type\":\"value\",\"value\":8},\"line_color\":{\"type\":\"value\",\"value\":\"#1f77b4\"},\"fill_color\":{\"type\":\"value\",\"value\":\"#1f77b4\"}}},\"nonselection_glyph\":{\"type\":\"object\",\"name\":\"Scatter\",\"id\":\"p1994\",\"attributes\":{\"x\":{\"type\":\"field\",\"field\":\"x\"},\"y\":{\"type\":\"field\",\"field\":\"y\"},\"size\":{\"type\":\"value\",\"value\":8},\"line_color\":{\"type\":\"value\",\"value\":\"#1f77b4\"},\"line_alpha\":{\"type\":\"value\",\"value\":0.1},\"fill_color\":{\"type\":\"value\",\"value\":\"#1f77b4\"},\"fill_alpha\":{\"type\":\"value\",\"value\":0.1},\"hatch_alpha\":{\"type\":\"value\",\"value\":0.1}}},\"muted_glyph\":{\"type\":\"object\",\"name\":\"Scatter\",\"id\":\"p1995\",\"attributes\":{\"x\":{\"type\":\"field\",\"field\":\"x\"},\"y\":{\"type\":\"field\",\"field\":\"y\"},\"size\":{\"type\":\"value\",\"value\":8},\"line_color\":{\"type\":\"value\",\"value\":\"#1f77b4\"},\"line_alpha\":{\"type\":\"value\",\"value\":0.2},\"fill_color\":{\"type\":\"value\",\"value\":\"#1f77b4\"},\"fill_alpha\":{\"type\":\"value\",\"value\":0.2},\"hatch_alpha\":{\"type\":\"value\",\"value\":0.2}}}}},{\"type\":\"object\",\"name\":\"GlyphRenderer\",\"id\":\"p2005\",\"attributes\":{\"data_source\":{\"type\":\"object\",\"name\":\"ColumnDataSource\",\"id\":\"p1999\",\"attributes\":{\"selected\":{\"type\":\"object\",\"name\":\"Selection\",\"id\":\"p2000\",\"attributes\":{\"indices\":[],\"line_indices\":[]}},\"selection_policy\":{\"type\":\"object\",\"name\":\"UnionRenderers\",\"id\":\"p2001\"},\"data\":{\"type\":\"map\",\"entries\":[[\"x\",[100,97,75,70,57,44,32,40,37,2,1,3,3,12,17,0,28,53,56,57,55,54,63,97,83,97,83,86,87,92,100]],[\"y\",[26,8,13,29,34,29,15,3,2,3,48,49,67,62,72,89,97,71,63,60,77,92,97,98,69,58,48,28,27,29,26]]]}}},\"view\":{\"type\":\"object\",\"name\":\"CDSView\",\"id\":\"p2006\",\"attributes\":{\"filter\":{\"type\":\"object\",\"name\":\"AllIndices\",\"id\":\"p2007\"}}},\"glyph\":{\"type\":\"object\",\"name\":\"Line\",\"id\":\"p2002\",\"attributes\":{\"x\":{\"type\":\"field\",\"field\":\"x\"},\"y\":{\"type\":\"field\",\"field\":\"y\"},\"line_color\":\"#1f77b4\"}},\"nonselection_glyph\":{\"type\":\"object\",\"name\":\"Line\",\"id\":\"p2003\",\"attributes\":{\"x\":{\"type\":\"field\",\"field\":\"x\"},\"y\":{\"type\":\"field\",\"field\":\"y\"},\"line_color\":\"#1f77b4\",\"line_alpha\":0.1}},\"muted_glyph\":{\"type\":\"object\",\"name\":\"Line\",\"id\":\"p2004\",\"attributes\":{\"x\":{\"type\":\"field\",\"field\":\"x\"},\"y\":{\"type\":\"field\",\"field\":\"y\"},\"line_color\":\"#1f77b4\",\"line_alpha\":0.2}}}}],\"toolbar\":{\"type\":\"object\",\"name\":\"Toolbar\",\"id\":\"p1964\",\"attributes\":{\"tools\":[{\"type\":\"object\",\"name\":\"PanTool\",\"id\":\"p1979\"},{\"type\":\"object\",\"name\":\"WheelZoomTool\",\"id\":\"p1980\",\"attributes\":{\"renderers\":\"auto\"}},{\"type\":\"object\",\"name\":\"BoxZoomTool\",\"id\":\"p1981\",\"attributes\":{\"overlay\":{\"type\":\"object\",\"name\":\"BoxAnnotation\",\"id\":\"p1982\",\"attributes\":{\"syncable\":false,\"level\":\"overlay\",\"visible\":false,\"left\":{\"type\":\"number\",\"value\":\"nan\"},\"right\":{\"type\":\"number\",\"value\":\"nan\"},\"top\":{\"type\":\"number\",\"value\":\"nan\"},\"bottom\":{\"type\":\"number\",\"value\":\"nan\"},\"left_units\":\"canvas\",\"right_units\":\"canvas\",\"top_units\":\"canvas\",\"bottom_units\":\"canvas\",\"line_color\":\"black\",\"line_alpha\":1.0,\"line_width\":2,\"line_dash\":[4,4],\"fill_color\":\"lightgrey\",\"fill_alpha\":0.5}}}},{\"type\":\"object\",\"name\":\"SaveTool\",\"id\":\"p1987\"},{\"type\":\"object\",\"name\":\"ResetTool\",\"id\":\"p1988\"},{\"type\":\"object\",\"name\":\"HelpTool\",\"id\":\"p1989\"}]}},\"left\":[{\"type\":\"object\",\"name\":\"LinearAxis\",\"id\":\"p1974\",\"attributes\":{\"ticker\":{\"type\":\"object\",\"name\":\"BasicTicker\",\"id\":\"p1975\",\"attributes\":{\"mantissas\":[1,2,5]}},\"formatter\":{\"type\":\"object\",\"name\":\"BasicTickFormatter\",\"id\":\"p1976\"},\"axis_label_standoff\":10,\"axis_label_text_color\":\"#E0E0E0\",\"axis_label_text_font\":\"Helvetica\",\"axis_label_text_font_size\":\"1.25em\",\"axis_label_text_font_style\":\"normal\",\"major_label_policy\":{\"type\":\"object\",\"name\":\"AllLabels\",\"id\":\"p1977\"},\"major_label_text_color\":\"#E0E0E0\",\"major_label_text_font\":\"Helvetica\",\"major_label_text_font_size\":\"1.025em\",\"axis_line_color\":\"#E0E0E0\",\"axis_line_alpha\":0,\"major_tick_line_color\":\"#E0E0E0\",\"major_tick_line_alpha\":0,\"minor_tick_line_color\":\"#E0E0E0\",\"minor_tick_line_alpha\":0}}],\"below\":[{\"type\":\"object\",\"name\":\"LinearAxis\",\"id\":\"p1969\",\"attributes\":{\"ticker\":{\"type\":\"object\",\"name\":\"BasicTicker\",\"id\":\"p1970\",\"attributes\":{\"mantissas\":[1,2,5]}},\"formatter\":{\"type\":\"object\",\"name\":\"BasicTickFormatter\",\"id\":\"p1971\"},\"axis_label_standoff\":10,\"axis_label_text_color\":\"#E0E0E0\",\"axis_label_text_font\":\"Helvetica\",\"axis_label_text_font_size\":\"1.25em\",\"axis_label_text_font_style\":\"normal\",\"major_label_policy\":{\"type\":\"object\",\"name\":\"AllLabels\",\"id\":\"p1972\"},\"major_label_text_color\":\"#E0E0E0\",\"major_label_text_font\":\"Helvetica\",\"major_label_text_font_size\":\"1.025em\",\"axis_line_color\":\"#E0E0E0\",\"axis_line_alpha\":0,\"major_tick_line_color\":\"#E0E0E0\",\"major_tick_line_alpha\":0,\"minor_tick_line_color\":\"#E0E0E0\",\"minor_tick_line_alpha\":0}}],\"center\":[{\"type\":\"object\",\"name\":\"Grid\",\"id\":\"p1973\",\"attributes\":{\"axis\":{\"id\":\"p1969\"},\"grid_line_color\":\"#E0E0E0\",\"grid_line_alpha\":0.25}},{\"type\":\"object\",\"name\":\"Grid\",\"id\":\"p1978\",\"attributes\":{\"dimension\":1,\"axis\":{\"id\":\"p1974\"},\"grid_line_color\":\"#E0E0E0\",\"grid_line_alpha\":0.25}}],\"background_fill_color\":\"#20262B\",\"border_fill_color\":\"#15191C\"}}]}};\n  const render_items = [{\"docid\":\"0a80a1e8-4c91-4848-8c39-8b1e91719808\",\"roots\":{\"p1955\":\"a2de26ed-4c04-4ba4-b5a5-8c397f87076b\"},\"root_ids\":[\"p1955\"]}];\n  void root.Bokeh.embed.embed_items_notebook(docs_json, render_items);\n  }\n  if (root.Bokeh !== undefined) {\n    embed_document(root);\n  } else {\n    let attempts = 0;\n    const timer = setInterval(function(root) {\n      if (root.Bokeh !== undefined) {\n        clearInterval(timer);\n        embed_document(root);\n      } else {\n        attempts++;\n        if (attempts > 100) {\n          clearInterval(timer);\n          console.log(\"Bokeh: ERROR: Unable to run BokehJS code because BokehJS library is missing\");\n        }\n      }\n    }, 10, root)\n  }\n})(window);",
      "application/vnd.bokehjs_exec.v0+json": ""
     },
     "metadata": {
      "application/vnd.bokehjs_exec.v0+json": {
       "id": "p1955"
      }
     },
     "output_type": "display_data"
    },
    {
     "name": "stdout",
     "output_type": "stream",
     "text": [
      "\n"
     ]
    }
   ],
   "execution_count": 52
  },
  {
   "cell_type": "markdown",
   "id": "9ea79992-f750-4690-9c83-a21800b6ab04",
   "metadata": {
    "slideshow": {
     "slide_type": "slide"
    }
   },
   "source": [
    "## Try fix-and-dive heuristic\n",
    "- When a fractional solution contains some variables at 1, try to fix those and solve the submodel\n",
    "- Although this is similar to a built-in MIP heuristic, this also calls the subtour callback inside."
   ]
  },
  {
   "cell_type": "markdown",
   "id": "b8af4c0d-d92a-4997-b2e2-a065bb8d4097",
   "metadata": {
    "slideshow": {
     "slide_type": "slide"
    }
   },
   "source": [
    "### Callback for fix-and-dive heuristic\n",
    "Note that this is also written as a closure. The reason for this is that we want to specify a heuristic callback function when solving the fixed model!"
   ]
  },
  {
   "cell_type": "code",
   "id": "84026208-ce8a-4538-9468-d1abb3d866f8",
   "metadata": {
    "slideshow": {
     "slide_type": "subslide"
    },
    "ExecuteTime": {
     "end_time": "2024-07-13T07:52:35.048366Z",
     "start_time": "2024-07-13T07:52:35.032297Z"
    }
   },
   "source": [
    "def fixcb(subcb=None):\n",
    "    def inner(model, where):\n",
    "        if where == GRB.Callback.MIPNODE:\n",
    "            if model.cbGet(GRB.Callback.MIPNODE_STATUS) == GRB.OPTIMAL:\n",
    "                # Try solving the fixed submodel\n",
    "                fixed = model._fixed\n",
    "                # Relaxed values near 1.0 get the lower bound set to 1.0\n",
    "                for k,v in model.cbGetNodeRel(model._vars).items():\n",
    "                    fixed._vars[k].LB = math.floor(v+0.01)\n",
    "                # Set a cutoff for the fixed model, based on the current best solution\n",
    "                if model.cbGet(GRB.Callback.MIPNODE_SOLCNT) > 0:\n",
    "                    fixed.Params.Cutoff = model.cbGet(GRB.Callback.MIPNODE_OBJBST)\n",
    "                fixed.optimize(tspcb(subcb)) # call subproblem callback\n",
    "                if fixed.status == GRB.OPTIMAL:\n",
    "                    fixedvals = fixed.getAttr('x', fixed._vars)\n",
    "                    model.cbSetSolution(model._vars, fixedvals)\n",
    "    return inner"
   ],
   "outputs": [],
   "execution_count": 29
  },
  {
   "cell_type": "markdown",
   "id": "7c77a8e3-7683-4e15-8542-10818fb6d5e5",
   "metadata": {
    "slideshow": {
     "slide_type": "slide"
    }
   },
   "source": [
    "### Create the fixed model\n",
    "\n",
    "We create two copies of the model and disable output when solving the smaller fixed model."
   ]
  },
  {
   "cell_type": "code",
   "id": "582baa2e-26cb-420b-8317-9a8dacb7b600",
   "metadata": {
    "slideshow": {
     "slide_type": "subslide"
    },
    "ExecuteTime": {
     "end_time": "2024-07-13T07:52:35.064390Z",
     "start_time": "2024-07-13T07:52:35.048876Z"
    }
   },
   "source": [
    "def tspmipwithfixed(n, dist):\n",
    "    m = tspmip(n, dist) # main model\n",
    "    m._fixed = tspmip(n, dist) # fixed model\n",
    "    m._fixed.Params.OutputFlag = 0\n",
    "    m._fixed._parent = m\n",
    "    return m"
   ],
   "outputs": [],
   "execution_count": 30
  },
  {
   "cell_type": "markdown",
   "id": "3b81b8d5-0a64-4c4f-8ac9-572ff145f646",
   "metadata": {
    "slideshow": {
     "slide_type": "slide"
    }
   },
   "source": [
    "### Solve the TSP with the fix-and-dive heuristic"
   ]
  },
  {
   "cell_type": "code",
   "id": "f6da72fc-c517-4fde-8697-32c5e1c81af7",
   "metadata": {
    "slideshow": {
     "slide_type": "subslide"
    },
    "tags": []
   },
   "source": [
    "m = tspmipwithfixed(n, dist)\n",
    "m.optimize(tspcb(fixcb()))\n",
    "checksol(m)"
   ],
   "outputs": [],
   "execution_count": null
  },
  {
   "cell_type": "markdown",
   "id": "e21ff8a9-2402-4798-a809-71b53a909d1e",
   "metadata": {
    "slideshow": {
     "slide_type": "slide"
    }
   },
   "source": [
    "### Tuning the callback for the fixed model\n",
    "\n",
    "- One issue is that the fixed values may be infeasible due to subtours\n",
    "- Let's exploit this by passing subtours found by the fixed model back to the parent model\n",
    "\n",
    "First, create a callback function _for the fixed model_ that appends the subtours to the subtours for parent model:"
   ]
  },
  {
   "cell_type": "code",
   "id": "5ff0c87e-b517-4ba3-a2b1-81ead1fd19de",
   "metadata": {
    "slideshow": {
     "slide_type": "subslide"
    },
    "ExecuteTime": {
     "end_time": "2024-07-13T07:58:31.293602Z",
     "start_time": "2024-07-13T07:58:31.286242Z"
    }
   },
   "source": [
    "def passfixsubtours(model, where):\n",
    "    if where == GRB.Callback.MIPSOL:\n",
    "        model._parent._subtours += model._subtours"
   ],
   "outputs": [],
   "execution_count": 40
  },
  {
   "cell_type": "markdown",
   "id": "b2fa60ae-7f23-4e69-baa4-19bac8623c31",
   "metadata": {
    "slideshow": {
     "slide_type": "slide"
    }
   },
   "source": [
    "### Solve the TSP with the enhanced fix-and-dive heuristic\n",
    "The callback function appears complicated!\n",
    "\n",
    "- What it's doing is to call the main callback (`tspcb`) on the MIP with the heuristic fixed callback `fixcb`\n",
    "- The fixed model uses the callback `passfixsubtours`, which sends subtours back to the original MIP."
   ]
  },
  {
   "cell_type": "code",
   "id": "f4ed01ad-d816-4654-987d-7294c45ffb3f",
   "metadata": {
    "slideshow": {
     "slide_type": "subslide"
    },
    "tags": []
   },
   "source": [
    "m = tspmipwithfixed(n, dist)\n",
    "m.optimize(tspcb(fixcb(passfixsubtours)))\n",
    "checksol(m)"
   ],
   "outputs": [
    {
     "name": "stdout",
     "output_type": "stream",
     "text": [
      "   155   170 1302.67534   10   49          - 1285.66655      -  15.7   52s\n",
      "   169   188 1302.57172   10   49          - 1285.66655      -  18.6   56s\n",
      "\n",
      "Cutting planes:\n",
      "  Zero half: 29\n",
      "  Lazy constraints: 2964\n",
      "\n",
      "Explored 187 nodes (4048 simplex iterations) in 61.90 seconds (1.76 work units)\n",
      "Thread count was 18 (of 18 available processors)\n",
      "\n",
      "Solution count 0\n",
      "\n",
      "Time limit reached\n",
      "Best objective -, best bound 1.285666551104e+03, gap -\n",
      "\n",
      "User-callback calls 850, time in user-callback 58.56 sec\n",
      "\n",
      "No solution!\n",
      "\n"
     ]
    }
   ],
   "execution_count": 33
  },
  {
   "cell_type": "markdown",
   "id": "2d3af95a",
   "metadata": {
    "slideshow": {
     "slide_type": "slide"
    }
   },
   "source": [
    "## Multiple heuristics\n",
    "Why not combine multiple heuristics together?"
   ]
  },
  {
   "cell_type": "markdown",
   "id": "2f62a2ba-0d61-4db7-a8d9-e91ee10aa3b0",
   "metadata": {
    "slideshow": {
     "slide_type": "slide"
    }
   },
   "source": [
    "### Combination: Greedy + Swap"
   ]
  },
  {
   "cell_type": "code",
   "id": "e7eecd50-1bf2-46e9-af9f-254d28c4a4d7",
   "metadata": {
    "slideshow": {
     "slide_type": "subslide"
    }
   },
   "source": [
    "def combo(model, where):\n",
    "    greedycb(model, where)\n",
    "    swapcb(model, where)\n",
    "\n",
    "m = tspmip(n, dist)\n",
    "m.optimize(tspcb(combo))\n",
    "checksol(m)\n",
    "addruntimes(runtimes, 'GS', m)"
   ],
   "outputs": [],
   "execution_count": null
  },
  {
   "cell_type": "markdown",
   "id": "d151f4d8-1e20-4efc-9edf-4bd1ef8ee357",
   "metadata": {
    "slideshow": {
     "slide_type": "slide"
    }
   },
   "source": [
    "### Combination: Patch + Swap"
   ]
  },
  {
   "cell_type": "code",
   "id": "1475f279-4810-4dbe-a467-69e319e41ddb",
   "metadata": {
    "slideshow": {
     "slide_type": "subslide"
    }
   },
   "source": [
    "def combo(model, where):\n",
    "    patchcb(model, where)\n",
    "    swapcb(model, where)\n",
    "\n",
    "m = tspmip(n, dist)\n",
    "m.optimize(tspcb(combo))\n",
    "checksol(m)\n",
    "addruntimes(runtimes, 'PS', m)"
   ],
   "outputs": [],
   "execution_count": null
  },
  {
   "cell_type": "markdown",
   "id": "cd2b926a-a76b-4bca-8d43-4cec66481ed1",
   "metadata": {
    "slideshow": {
     "slide_type": "slide"
    }
   },
   "source": [
    "### Combination: Patch + Greedy + Swap"
   ]
  },
  {
   "cell_type": "code",
   "id": "f767e6c4-2618-464f-a733-f3d888b747a1",
   "metadata": {
    "slideshow": {
     "slide_type": "subslide"
    }
   },
   "source": [
    "def combo(model, where):\n",
    "    patchcb(model, where)\n",
    "    greedycb(model, where)\n",
    "    swapcb(model, where)\n",
    "\n",
    "m = tspmip(n, dist)\n",
    "m.optimize(tspcb(combo))\n",
    "checksol(m)\n",
    "addruntimes(runtimes, 'PGS', m)"
   ],
   "outputs": [],
   "execution_count": null
  },
  {
   "cell_type": "markdown",
   "id": "92378245-b7b6-4ef1-b484-1efb55ea27b2",
   "metadata": {
    "slideshow": {
     "slide_type": "slide"
    }
   },
   "source": [
    "# Performance\n",
    "Compare performance of the different heuristics"
   ]
  },
  {
   "cell_type": "code",
   "id": "70eedd67-2e52-4352-96c0-8ccab0c52b3f",
   "metadata": {
    "slideshow": {
     "slide_type": "subslide"
    },
    "ExecuteTime": {
     "end_time": "2024-07-13T07:58:27.461460Z",
     "start_time": "2024-07-13T07:58:27.366962Z"
    }
   },
   "source": [
    "from bokeh.transform import dodge\n",
    "\n",
    "fig = figure(x_range=runtimes['methods'], title=\"Runtimes\")\n",
    "fig.vbar(x=dodge('methods', -0.2, range=fig.x_range),\n",
    "         top='firstsol', source=runtimes, width=0.3, color=\"red\",\n",
    "         legend_label=\"First solution\")\n",
    "fig.vbar(x=dodge('methods', 0.2, range=fig.x_range),\n",
    "         top='optimal', source=runtimes, width=0.3, color=\"blue\",\n",
    "         legend_label=\"Optimality\")\n",
    "show(fig)"
   ],
   "outputs": [
    {
     "data": {
      "text/html": [
       "\n",
       "  <div id=\"f51228be-13ac-4db6-8f82-2c074130a685\" data-root-id=\"p1107\" style=\"display: contents;\"></div>\n"
      ]
     },
     "metadata": {},
     "output_type": "display_data"
    },
    {
     "data": {
      "application/javascript": "(function(root) {\n  function embed_document(root) {\n  const docs_json = {\"e151ec2b-2293-4d7c-b06b-af8db24310d6\":{\"version\":\"3.4.1\",\"title\":\"Bokeh Application\",\"roots\":[{\"type\":\"object\",\"name\":\"Figure\",\"id\":\"p1107\",\"attributes\":{\"x_range\":{\"type\":\"object\",\"name\":\"FactorRange\",\"id\":\"p1117\",\"attributes\":{\"factors\":[\"noheur\",\"swap\",\"greedy\",\"patch\",\"GS\",\"PS\",\"PGS\"]}},\"y_range\":{\"type\":\"object\",\"name\":\"DataRange1d\",\"id\":\"p1109\"},\"x_scale\":{\"type\":\"object\",\"name\":\"CategoricalScale\",\"id\":\"p1118\"},\"y_scale\":{\"type\":\"object\",\"name\":\"LinearScale\",\"id\":\"p1119\"},\"title\":{\"type\":\"object\",\"name\":\"Title\",\"id\":\"p1110\",\"attributes\":{\"text\":\"Runtimes\",\"text_color\":\"#E0E0E0\",\"text_font\":\"Helvetica\",\"text_font_size\":\"1.15em\"}},\"outline_line_color\":\"#E0E0E0\",\"outline_line_alpha\":0.25,\"renderers\":[{\"type\":\"object\",\"name\":\"GlyphRenderer\",\"id\":\"p1151\",\"attributes\":{\"data_source\":{\"type\":\"object\",\"name\":\"ColumnDataSource\",\"id\":\"p1142\",\"attributes\":{\"selected\":{\"type\":\"object\",\"name\":\"Selection\",\"id\":\"p1143\",\"attributes\":{\"indices\":[],\"line_indices\":[]}},\"selection_policy\":{\"type\":\"object\",\"name\":\"UnionRenderers\",\"id\":\"p1144\"},\"data\":{\"type\":\"map\",\"entries\":[[\"methods\",[\"noheur\",\"swap\",\"greedy\",\"patch\",\"GS\",\"PS\",\"PGS\"]],[\"optimal\",[21.973999977111816,70.23800015449524,68.9449999332428,61.86500000953674,83.80900001525879,70.0460000038147,73.25999999046326]],[\"firstsol\",[7.10699987411499,7.49399995803833,68.9449999332428,61.86500000953674,83.80900001525879,70.0460000038147,73.25999999046326]]]}}},\"view\":{\"type\":\"object\",\"name\":\"CDSView\",\"id\":\"p1152\",\"attributes\":{\"filter\":{\"type\":\"object\",\"name\":\"AllIndices\",\"id\":\"p1153\"}}},\"glyph\":{\"type\":\"object\",\"name\":\"VBar\",\"id\":\"p1148\",\"attributes\":{\"x\":{\"type\":\"field\",\"field\":\"methods\",\"transform\":{\"type\":\"object\",\"name\":\"Dodge\",\"id\":\"p1141\",\"attributes\":{\"value\":-0.2,\"range\":{\"id\":\"p1117\"}}}},\"width\":{\"type\":\"value\",\"value\":0.3},\"top\":{\"type\":\"field\",\"field\":\"firstsol\"},\"line_color\":{\"type\":\"value\",\"value\":\"red\"},\"fill_color\":{\"type\":\"value\",\"value\":\"red\"},\"hatch_color\":{\"type\":\"value\",\"value\":\"red\"}}},\"nonselection_glyph\":{\"type\":\"object\",\"name\":\"VBar\",\"id\":\"p1149\",\"attributes\":{\"x\":{\"type\":\"field\",\"field\":\"methods\",\"transform\":{\"id\":\"p1141\"}},\"width\":{\"type\":\"value\",\"value\":0.3},\"top\":{\"type\":\"field\",\"field\":\"firstsol\"},\"line_color\":{\"type\":\"value\",\"value\":\"red\"},\"line_alpha\":{\"type\":\"value\",\"value\":0.1},\"fill_color\":{\"type\":\"value\",\"value\":\"red\"},\"fill_alpha\":{\"type\":\"value\",\"value\":0.1},\"hatch_color\":{\"type\":\"value\",\"value\":\"red\"},\"hatch_alpha\":{\"type\":\"value\",\"value\":0.1}}},\"muted_glyph\":{\"type\":\"object\",\"name\":\"VBar\",\"id\":\"p1150\",\"attributes\":{\"x\":{\"type\":\"field\",\"field\":\"methods\",\"transform\":{\"id\":\"p1141\"}},\"width\":{\"type\":\"value\",\"value\":0.3},\"top\":{\"type\":\"field\",\"field\":\"firstsol\"},\"line_color\":{\"type\":\"value\",\"value\":\"red\"},\"line_alpha\":{\"type\":\"value\",\"value\":0.2},\"fill_color\":{\"type\":\"value\",\"value\":\"red\"},\"fill_alpha\":{\"type\":\"value\",\"value\":0.2},\"hatch_color\":{\"type\":\"value\",\"value\":\"red\"},\"hatch_alpha\":{\"type\":\"value\",\"value\":0.2}}}}},{\"type\":\"object\",\"name\":\"GlyphRenderer\",\"id\":\"p1166\",\"attributes\":{\"data_source\":{\"type\":\"object\",\"name\":\"ColumnDataSource\",\"id\":\"p1157\",\"attributes\":{\"selected\":{\"type\":\"object\",\"name\":\"Selection\",\"id\":\"p1158\",\"attributes\":{\"indices\":[],\"line_indices\":[]}},\"selection_policy\":{\"type\":\"object\",\"name\":\"UnionRenderers\",\"id\":\"p1159\"},\"data\":{\"type\":\"map\",\"entries\":[[\"methods\",[\"noheur\",\"swap\",\"greedy\",\"patch\",\"GS\",\"PS\",\"PGS\"]],[\"optimal\",[21.973999977111816,70.23800015449524,68.9449999332428,61.86500000953674,83.80900001525879,70.0460000038147,73.25999999046326]],[\"firstsol\",[7.10699987411499,7.49399995803833,68.9449999332428,61.86500000953674,83.80900001525879,70.0460000038147,73.25999999046326]]]}}},\"view\":{\"type\":\"object\",\"name\":\"CDSView\",\"id\":\"p1167\",\"attributes\":{\"filter\":{\"type\":\"object\",\"name\":\"AllIndices\",\"id\":\"p1168\"}}},\"glyph\":{\"type\":\"object\",\"name\":\"VBar\",\"id\":\"p1163\",\"attributes\":{\"x\":{\"type\":\"field\",\"field\":\"methods\",\"transform\":{\"type\":\"object\",\"name\":\"Dodge\",\"id\":\"p1156\",\"attributes\":{\"value\":0.2,\"range\":{\"id\":\"p1117\"}}}},\"width\":{\"type\":\"value\",\"value\":0.3},\"top\":{\"type\":\"field\",\"field\":\"optimal\"},\"line_color\":{\"type\":\"value\",\"value\":\"blue\"},\"fill_color\":{\"type\":\"value\",\"value\":\"blue\"},\"hatch_color\":{\"type\":\"value\",\"value\":\"blue\"}}},\"nonselection_glyph\":{\"type\":\"object\",\"name\":\"VBar\",\"id\":\"p1164\",\"attributes\":{\"x\":{\"type\":\"field\",\"field\":\"methods\",\"transform\":{\"id\":\"p1156\"}},\"width\":{\"type\":\"value\",\"value\":0.3},\"top\":{\"type\":\"field\",\"field\":\"optimal\"},\"line_color\":{\"type\":\"value\",\"value\":\"blue\"},\"line_alpha\":{\"type\":\"value\",\"value\":0.1},\"fill_color\":{\"type\":\"value\",\"value\":\"blue\"},\"fill_alpha\":{\"type\":\"value\",\"value\":0.1},\"hatch_color\":{\"type\":\"value\",\"value\":\"blue\"},\"hatch_alpha\":{\"type\":\"value\",\"value\":0.1}}},\"muted_glyph\":{\"type\":\"object\",\"name\":\"VBar\",\"id\":\"p1165\",\"attributes\":{\"x\":{\"type\":\"field\",\"field\":\"methods\",\"transform\":{\"id\":\"p1156\"}},\"width\":{\"type\":\"value\",\"value\":0.3},\"top\":{\"type\":\"field\",\"field\":\"optimal\"},\"line_color\":{\"type\":\"value\",\"value\":\"blue\"},\"line_alpha\":{\"type\":\"value\",\"value\":0.2},\"fill_color\":{\"type\":\"value\",\"value\":\"blue\"},\"fill_alpha\":{\"type\":\"value\",\"value\":0.2},\"hatch_color\":{\"type\":\"value\",\"value\":\"blue\"},\"hatch_alpha\":{\"type\":\"value\",\"value\":0.2}}}}}],\"toolbar\":{\"type\":\"object\",\"name\":\"Toolbar\",\"id\":\"p1116\",\"attributes\":{\"tools\":[{\"type\":\"object\",\"name\":\"PanTool\",\"id\":\"p1130\"},{\"type\":\"object\",\"name\":\"WheelZoomTool\",\"id\":\"p1131\",\"attributes\":{\"renderers\":\"auto\"}},{\"type\":\"object\",\"name\":\"BoxZoomTool\",\"id\":\"p1132\",\"attributes\":{\"overlay\":{\"type\":\"object\",\"name\":\"BoxAnnotation\",\"id\":\"p1133\",\"attributes\":{\"syncable\":false,\"level\":\"overlay\",\"visible\":false,\"left\":{\"type\":\"number\",\"value\":\"nan\"},\"right\":{\"type\":\"number\",\"value\":\"nan\"},\"top\":{\"type\":\"number\",\"value\":\"nan\"},\"bottom\":{\"type\":\"number\",\"value\":\"nan\"},\"left_units\":\"canvas\",\"right_units\":\"canvas\",\"top_units\":\"canvas\",\"bottom_units\":\"canvas\",\"line_color\":\"black\",\"line_alpha\":1.0,\"line_width\":2,\"line_dash\":[4,4],\"fill_color\":\"lightgrey\",\"fill_alpha\":0.5}}}},{\"type\":\"object\",\"name\":\"SaveTool\",\"id\":\"p1138\"},{\"type\":\"object\",\"name\":\"ResetTool\",\"id\":\"p1139\"},{\"type\":\"object\",\"name\":\"HelpTool\",\"id\":\"p1140\"}]}},\"left\":[{\"type\":\"object\",\"name\":\"LinearAxis\",\"id\":\"p1125\",\"attributes\":{\"ticker\":{\"type\":\"object\",\"name\":\"BasicTicker\",\"id\":\"p1126\",\"attributes\":{\"mantissas\":[1,2,5]}},\"formatter\":{\"type\":\"object\",\"name\":\"BasicTickFormatter\",\"id\":\"p1127\"},\"axis_label_standoff\":10,\"axis_label_text_color\":\"#E0E0E0\",\"axis_label_text_font\":\"Helvetica\",\"axis_label_text_font_size\":\"1.25em\",\"axis_label_text_font_style\":\"normal\",\"major_label_policy\":{\"type\":\"object\",\"name\":\"AllLabels\",\"id\":\"p1128\"},\"major_label_text_color\":\"#E0E0E0\",\"major_label_text_font\":\"Helvetica\",\"major_label_text_font_size\":\"1.025em\",\"axis_line_color\":\"#E0E0E0\",\"axis_line_alpha\":0,\"major_tick_line_color\":\"#E0E0E0\",\"major_tick_line_alpha\":0,\"minor_tick_line_color\":\"#E0E0E0\",\"minor_tick_line_alpha\":0}}],\"below\":[{\"type\":\"object\",\"name\":\"CategoricalAxis\",\"id\":\"p1120\",\"attributes\":{\"ticker\":{\"type\":\"object\",\"name\":\"CategoricalTicker\",\"id\":\"p1121\"},\"formatter\":{\"type\":\"object\",\"name\":\"CategoricalTickFormatter\",\"id\":\"p1122\"},\"axis_label_standoff\":10,\"axis_label_text_color\":\"#E0E0E0\",\"axis_label_text_font\":\"Helvetica\",\"axis_label_text_font_size\":\"1.25em\",\"axis_label_text_font_style\":\"normal\",\"major_label_policy\":{\"type\":\"object\",\"name\":\"AllLabels\",\"id\":\"p1123\"},\"major_label_text_color\":\"#E0E0E0\",\"major_label_text_font\":\"Helvetica\",\"major_label_text_font_size\":\"1.025em\",\"axis_line_color\":\"#E0E0E0\",\"axis_line_alpha\":0,\"major_tick_line_color\":\"#E0E0E0\",\"major_tick_line_alpha\":0,\"minor_tick_line_color\":\"#E0E0E0\",\"minor_tick_line_alpha\":0}}],\"center\":[{\"type\":\"object\",\"name\":\"Grid\",\"id\":\"p1124\",\"attributes\":{\"axis\":{\"id\":\"p1120\"},\"grid_line_color\":\"#E0E0E0\",\"grid_line_alpha\":0.25}},{\"type\":\"object\",\"name\":\"Grid\",\"id\":\"p1129\",\"attributes\":{\"dimension\":1,\"axis\":{\"id\":\"p1125\"},\"grid_line_color\":\"#E0E0E0\",\"grid_line_alpha\":0.25}},{\"type\":\"object\",\"name\":\"Legend\",\"id\":\"p1154\",\"attributes\":{\"border_line_alpha\":0,\"background_fill_color\":\"#20262B\",\"background_fill_alpha\":0.25,\"label_text_color\":\"#E0E0E0\",\"label_text_font\":\"Helvetica\",\"label_text_font_size\":\"1.025em\",\"label_standoff\":8,\"glyph_width\":15,\"spacing\":8,\"items\":[{\"type\":\"object\",\"name\":\"LegendItem\",\"id\":\"p1155\",\"attributes\":{\"label\":{\"type\":\"value\",\"value\":\"First solution\"},\"renderers\":[{\"id\":\"p1151\"}]}},{\"type\":\"object\",\"name\":\"LegendItem\",\"id\":\"p1169\",\"attributes\":{\"label\":{\"type\":\"value\",\"value\":\"Optimality\"},\"renderers\":[{\"id\":\"p1166\"}]}}]}}],\"background_fill_color\":\"#20262B\",\"border_fill_color\":\"#15191C\"}}]}};\n  const render_items = [{\"docid\":\"e151ec2b-2293-4d7c-b06b-af8db24310d6\",\"roots\":{\"p1107\":\"f51228be-13ac-4db6-8f82-2c074130a685\"},\"root_ids\":[\"p1107\"]}];\n  void root.Bokeh.embed.embed_items_notebook(docs_json, render_items);\n  }\n  if (root.Bokeh !== undefined) {\n    embed_document(root);\n  } else {\n    let attempts = 0;\n    const timer = setInterval(function(root) {\n      if (root.Bokeh !== undefined) {\n        clearInterval(timer);\n        embed_document(root);\n      } else {\n        attempts++;\n        if (attempts > 100) {\n          clearInterval(timer);\n          console.log(\"Bokeh: ERROR: Unable to run BokehJS code because BokehJS library is missing\");\n        }\n      }\n    }, 10, root)\n  }\n})(window);",
      "application/vnd.bokehjs_exec.v0+json": ""
     },
     "metadata": {
      "application/vnd.bokehjs_exec.v0+json": {
       "id": "p1107"
      }
     },
     "output_type": "display_data"
    }
   ],
   "execution_count": 37
  },
  {
   "cell_type": "markdown",
   "id": "1375e70c-e3f9-4b92-abaf-cfde997741c1",
   "metadata": {
    "slideshow": {
     "slide_type": "slide"
    }
   },
   "source": [
    "# General model\n",
    "- The MIP TSP *does not* require a Euclidean distance function\n",
    "- It does not even require the triangle inequality!\n",
    "\n",
    "Let's try some purely random distances:"
   ]
  },
  {
   "cell_type": "code",
   "id": "cbe84cd4-ed19-452e-b804-ffa2c159adc9",
   "metadata": {
    "slideshow": {
     "slide_type": "subslide"
    }
   },
   "source": [
    "n = 300\n",
    "\n",
    "random.seed(20)\n",
    "dist = {(i, j): random.uniform(0,100)\n",
    "        for i in range(n) for j in range(i)}\n",
    "\n",
    "m = tspmip(n, dist)\n",
    "\n",
    "m.optimize(tspcb(patchcb))\n",
    "\n",
    "checksol(m, plot=False)"
   ],
   "outputs": [],
   "execution_count": null
  },
  {
   "cell_type": "markdown",
   "id": "dd73c6d8-8c22-4716-95dd-314eb1ae88f5",
   "metadata": {},
   "source": [
    "## Models that are likely to benefit from custom MIP heuristics\n",
    "- Where it is difficult to find integer solutions via the LP relaxation\n",
    "- Where it is easy to construct or improve an integer solution"
   ]
  },
  {
   "cell_type": "markdown",
   "id": "91a57660-8d36-4c09-9e6d-2065882eb7ba",
   "metadata": {},
   "source": [
    "## Models that are unlikely to benefit from custom heuristics\n",
    "- Where it is easy to find integer solutions\n",
    "- Where default MIP heuristics perform well\n",
    "    - Ex: knapsack problems"
   ]
  },
  {
   "cell_type": "markdown",
   "id": "3220c05a",
   "metadata": {
    "slideshow": {
     "slide_type": "slide"
    }
   },
   "source": [
    "## Example models that are likely to benefit from custom MIP heuristics\n",
    "\n",
    "- Models with some possibility\n",
    "  - Set covering/packing: Can you do better than general MIP rounding?\n",
    "- Promising models with disjunctive constraints\n",
    "  - Sequencing / disjunctive scheduling\n",
    "  - 2D/3D bin packing\n",
    "  - Open pit mining"
   ]
  },
  {
   "cell_type": "markdown",
   "id": "a6c5169d",
   "metadata": {
    "slideshow": {
     "slide_type": "slide"
    }
   },
   "source": [
    "## Remember the Disclaimers\n",
    "- We use the Traveling Salesman Problem (TSP) **for illustration purposes**\n",
    "  - Why TSP? Because it is a rich model that is easy to understand\n",
    "- This is *not* designed to show the fastest method for the TSP\n",
    "  - Special-purpose TSP codes outperform this model\n",
    "  - If you want to solve a TSP, consider a state-of-the-art system like [Concorde TSP Solver](http://www.math.uwaterloo.ca/tsp/concorde.html)"
   ]
  },
  {
   "cell_type": "markdown",
   "id": "8592d194",
   "metadata": {
    "slideshow": {
     "slide_type": "slide"
    }
   },
   "source": [
    "# How to get this code\n",
    "Available for download on Github: https://github.com/Gurobi/pres-mipheur\n",
    "\n",
    "**NOTE**: The sample data is too large to run using a _free trial license_; please do one of the following:\n",
    "- Commercial prospects: [Contact Gurobi sales](https://www.gurobi.com/company/contact-us/) to get a time-limited evaluation license\n",
    "- Academic users: Get a [free academic license](https://www.gurobi.com/academia/academic-program-and-licenses/) (if you qualify)\n",
    "- Anyone: Reduce the value of n to get a smaller model instance"
   ]
  },
  {
   "cell_type": "markdown",
   "id": "e23d30b7-3d5e-4b6d-b173-5f4a77ca4ab5",
   "metadata": {
    "slideshow": {
     "slide_type": "slide"
    }
   },
   "source": [
    "# Questions/Discussion"
   ]
  },
  {
   "cell_type": "code",
   "id": "0099f017",
   "metadata": {
    "slideshow": {
     "slide_type": "skip"
    },
    "ExecuteTime": {
     "end_time": "2024-07-13T07:58:31.261950Z",
     "start_time": "2024-07-13T07:58:31.246312Z"
    }
   },
   "source": [],
   "outputs": [],
   "execution_count": 38
  }
 ],
 "metadata": {
  "jupytext": {
   "encoding": "# -*- coding: utf-8 -*-",
   "formats": "ipynb,py:percent,md"
  },
  "kernelspec": {
   "display_name": "ogc",
   "language": "python",
   "name": "ogc2024"
  },
  "language_info": {
   "codemirror_mode": {
    "name": "ipython",
    "version": 3
   },
   "file_extension": ".py",
   "mimetype": "text/x-python",
   "name": "python",
   "nbconvert_exporter": "python",
   "pygments_lexer": "ipython3",
   "version": "3.8.2"
  },
  "rise": {
   "center": false,
   "height": "90%",
   "scroll": true
  }
 },
 "nbformat": 4,
 "nbformat_minor": 5
}
